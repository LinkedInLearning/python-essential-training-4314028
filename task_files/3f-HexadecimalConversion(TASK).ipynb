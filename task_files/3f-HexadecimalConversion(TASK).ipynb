{
 "cells": [
  {
   "cell_type": "code",
   "execution_count": 99,
   "id": "64a7007f",
   "metadata": {},
   "outputs": [],
   "source": [
    "hexNums= {\n",
    "    '0':0, '1':1, '2':2, '3':3, '4':4, '5':5, '6':6, '7':7, '8':8, '9':9,\n",
    "    'A':10, 'B':11, 'C':12, 'D':13, 'E':14, 'F':15\n",
    "}"
   ]
  },
  {
   "cell_type": "code",
   "execution_count": 199,
   "id": "dffdab26",
   "metadata": {},
   "outputs": [],
   "source": [
    "def hexToDec(hexNum):\n",
    "    finalValue = 0\n",
    "    currentPower = len(hexNum)\n",
    "    \n",
    "    for currentValue in hexNum:\n",
    "        if currentValue in hexNums:\n",
    "            currentPower = currentPower - 1\n",
    "            currentValue = hexNums[currentValue] * (16 ** currentPower)\n",
    "            finalValue = finalValue + currentValue\n",
    "        else:\n",
    "            return None\n",
    "        \n",
    "    return finalValue"
   ]
  },
  {
   "cell_type": "markdown",
   "id": "2ffe3ad1",
   "metadata": {},
   "source": [
    "### Testing examples:"
   ]
  },
  {
   "cell_type": "code",
   "execution_count": 208,
   "id": "7d0dc97c",
   "metadata": {},
   "outputs": [
    {
     "data": {
      "text/plain": [
       "10"
      ]
     },
     "execution_count": 208,
     "metadata": {},
     "output_type": "execute_result"
    }
   ],
   "source": [
    "# 10\n",
    "hexToDec('A')"
   ]
  },
  {
   "cell_type": "code",
   "execution_count": 201,
   "id": "9c14578e",
   "metadata": {},
   "outputs": [
    {
     "data": {
      "text/plain": [
       "0"
      ]
     },
     "execution_count": 201,
     "metadata": {},
     "output_type": "execute_result"
    }
   ],
   "source": [
    "# 0\n",
    "hexToDec('0')"
   ]
  },
  {
   "cell_type": "code",
   "execution_count": 202,
   "id": "fd46a126",
   "metadata": {},
   "outputs": [
    {
     "data": {
      "text/plain": [
       "27"
      ]
     },
     "execution_count": 202,
     "metadata": {},
     "output_type": "execute_result"
    }
   ],
   "source": [
    "# 27\n",
    "hexToDec('1B')"
   ]
  },
  {
   "cell_type": "code",
   "execution_count": 203,
   "id": "51884548",
   "metadata": {},
   "outputs": [
    {
     "data": {
      "text/plain": [
       "960"
      ]
     },
     "execution_count": 203,
     "metadata": {},
     "output_type": "execute_result"
    }
   ],
   "source": [
    "# 960\n",
    "hexToDec('3C0')"
   ]
  },
  {
   "cell_type": "code",
   "execution_count": 204,
   "id": "74a388d4",
   "metadata": {},
   "outputs": [],
   "source": [
    "# None\n",
    "hexToDec('A6G')"
   ]
  },
  {
   "cell_type": "code",
   "execution_count": 205,
   "id": "cfe391d1",
   "metadata": {},
   "outputs": [],
   "source": [
    "# None\n",
    "hexToDec('ZZTOP')"
   ]
  },
  {
   "cell_type": "code",
   "execution_count": 207,
   "id": "328df621",
   "metadata": {},
   "outputs": [
    {
     "data": {
      "text/plain": [
       "11256099"
      ]
     },
     "execution_count": 207,
     "metadata": {},
     "output_type": "execute_result"
    }
   ],
   "source": [
    "hexToDec('ABC123')"
   ]
  }
 ],
 "metadata": {
  "kernelspec": {
   "display_name": "Python 3 (ipykernel)",
   "language": "python",
   "name": "python3"
  },
  "language_info": {
   "codemirror_mode": {
    "name": "ipython",
    "version": 3
   },
   "file_extension": ".py",
   "mimetype": "text/x-python",
   "name": "python",
   "nbconvert_exporter": "python",
   "pygments_lexer": "ipython3",
   "version": "3.11.3"
  }
 },
 "nbformat": 4,
 "nbformat_minor": 5
}
