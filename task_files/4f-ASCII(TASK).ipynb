{
 "cells": [
  {
   "cell_type": "code",
   "execution_count": 208,
   "id": "0d99ad13",
   "metadata": {},
   "outputs": [],
   "source": [
    "testStr = 'AAAAABBBBAAACCCCDDD'"
   ]
  },
  {
   "cell_type": "code",
   "execution_count": 211,
   "id": "3e3d8c1c",
   "metadata": {},
   "outputs": [],
   "source": [
    "def encodeString(strList):\n",
    "    lastVal = strList[0]\n",
    "    count = 0\n",
    "    ans = []\n",
    "    for i in strList:\n",
    "        if i == lastVal:\n",
    "            count = count + 1\n",
    "        else:\n",
    "            currentTuple = (lastVal, count)\n",
    "            ans.append(currentTuple)\n",
    "            count = 1\n",
    "        lastVal = i\n",
    "        \n",
    "    currentTuple = (lastVal, count)\n",
    "    ans.append(currentTuple)\n",
    "    \n",
    "    return ans\n"
   ]
  },
  {
   "cell_type": "code",
   "execution_count": 212,
   "id": "b7fb69d3",
   "metadata": {
    "scrolled": true
   },
   "outputs": [
    {
     "name": "stdout",
     "output_type": "stream",
     "text": [
      "[('A', 5), ('B', 4), ('A', 3), ('C', 4), ('D', 3)]\n"
     ]
    }
   ],
   "source": [
    "testTuple = encodeString(testStr)\n",
    "print(testTuple)"
   ]
  },
  {
   "cell_type": "code",
   "execution_count": 206,
   "id": "83bcff55",
   "metadata": {},
   "outputs": [],
   "source": [
    "def decodeString(eList):\n",
    "    ans = ''\n",
    "    for i in eList:\n",
    "        ans = ans + (i[0] * i[1])\n",
    "        \n",
    "    return ans\n",
    "    "
   ]
  },
  {
   "cell_type": "code",
   "execution_count": 210,
   "id": "5d90cd91",
   "metadata": {},
   "outputs": [
    {
     "data": {
      "text/plain": [
       "'AAAAABBBBAAACCCCDDD'"
      ]
     },
     "execution_count": 210,
     "metadata": {},
     "output_type": "execute_result"
    }
   ],
   "source": [
    "decodeString(testTuple)"
   ]
  }
 ],
 "metadata": {
  "kernelspec": {
   "display_name": "Python 3 (ipykernel)",
   "language": "python",
   "name": "python3"
  },
  "language_info": {
   "codemirror_mode": {
    "name": "ipython",
    "version": 3
   },
   "file_extension": ".py",
   "mimetype": "text/x-python",
   "name": "python",
   "nbconvert_exporter": "python",
   "pygments_lexer": "ipython3",
   "version": "3.11.3"
  }
 },
 "nbformat": 4,
 "nbformat_minor": 5
}
