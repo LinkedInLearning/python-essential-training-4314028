{
 "cells": [
  {
   "cell_type": "markdown",
   "id": "6d8279ab",
   "metadata": {},
   "source": [
    "## Extending the Messenger\n",
    "\n",
    "Create a class \"SaveMessages\" that extends the Messenger class that does the following things:\n",
    "\n",
    "- Add any messages it receives to a list, along with the time the message was received\n",
    "- Use the provided \"getCurrentTime\" function so that the received message time is a string\n",
    "- Contains a method called \"printMessages\" that prints all collected messages when it's called.\n",
    "\n",
    "You might also consider clearing the message list when \"printMessages\" is called. \n"
   ]
  },
  {
   "cell_type": "code",
   "execution_count": 176,
   "id": "35d4f1f5",
   "metadata": {},
   "outputs": [],
   "source": [
    "from datetime import datetime\n",
    "\n",
    "def getCurrentTime():\n",
    "    return datetime.now().strftime(\"%m-%d-%Y %H:%M:%S\")\n",
    "\n",
    "class Messenger:\n",
    "    def __init__(self, listeners=[]):\n",
    "        self.listeners = listeners\n",
    "    \n",
    "    def send(self, message):\n",
    "        for listener in self.listeners:\n",
    "            listener.receive(message)\n",
    "\n",
    "    def receive(self, message):\n",
    "        # Must be implemented by extending classes\n",
    "        pass\n",
    "\n",
    "class SaveMessages(Messenger):\n",
    "    \n",
    "    def __init__(self):\n",
    "        super().__init__()\n",
    "        self.savedMessages = str()\n",
    "    \n",
    "    def receive(self, message):\n",
    "        fullMessage = 'Recieved at: ' + getCurrentTime() + '\\n' + '   ' + message\n",
    "        if self.savedMessages == '':\n",
    "            self.savedMessages = fullMessage\n",
    "        else:\n",
    "            self.savedMessages = self.savedMessages + '\\n' + '\\n' + fullMessage\n",
    "    \n",
    "    def printMessages(self):\n",
    "        print(self.savedMessages)\n"
   ]
  },
  {
   "cell_type": "code",
   "execution_count": 177,
   "id": "608e3112",
   "metadata": {},
   "outputs": [
    {
     "name": "stdout",
     "output_type": "stream",
     "text": [
      "Recieved at: 05-03-2023 10:28:36\n",
      "   Hello, there! This is the first message\n"
     ]
    }
   ],
   "source": [
    "# Run this cell after you've written your solution\n",
    "listener = SaveMessages()\n",
    "\n",
    "sender = Messenger([listener])\n",
    "\n",
    "sender.send('Hello, there! This is the first message')\n",
    "\n",
    "listener.printMessages()\n"
   ]
  },
  {
   "cell_type": "code",
   "execution_count": 178,
   "id": "2de8c179",
   "metadata": {},
   "outputs": [
    {
     "name": "stdout",
     "output_type": "stream",
     "text": [
      "Recieved at: 05-03-2023 10:28:36\n",
      "   Hello, there! This is the first message\n",
      "\n",
      "Recieved at: 05-03-2023 10:28:38\n",
      "   Oh hi! This is the second message!\n"
     ]
    }
   ],
   "source": [
    "# Run this cell after you've written your solution\n",
    "sender.send('Oh hi! This is the second message!')\n",
    "\n",
    "listener.printMessages()"
   ]
  },
  {
   "cell_type": "code",
   "execution_count": 179,
   "id": "29c00698",
   "metadata": {},
   "outputs": [
    {
     "name": "stdout",
     "output_type": "stream",
     "text": [
      "Recieved at: 05-03-2023 10:28:36\n",
      "   Hello, there! This is the first message\n",
      "\n",
      "Recieved at: 05-03-2023 10:28:38\n",
      "   Oh hi! This is the second message!\n",
      "\n",
      "Recieved at: 05-03-2023 10:28:41\n",
      "   Hola! This is the third and final message!\n"
     ]
    }
   ],
   "source": [
    "# Run this cell after you've written your solution\n",
    "sender.send('Hola! This is the third and final message!')\n",
    "\n",
    "listener.printMessages()"
   ]
  }
 ],
 "metadata": {
  "kernelspec": {
   "display_name": "Python 3 (ipykernel)",
   "language": "python",
   "name": "python3"
  },
  "language_info": {
   "codemirror_mode": {
    "name": "ipython",
    "version": 3
   },
   "file_extension": ".py",
   "mimetype": "text/x-python",
   "name": "python",
   "nbconvert_exporter": "python",
   "pygments_lexer": "ipython3",
   "version": "3.11.3"
  },
  "vscode": {
   "interpreter": {
    "hash": "949777d72b0d2535278d3dc13498b2535136f6dfe0678499012e853ee9abcab1"
   }
  }
 },
 "nbformat": 4,
 "nbformat_minor": 5
}
