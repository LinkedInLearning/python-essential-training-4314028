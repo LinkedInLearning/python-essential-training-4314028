{
 "cells": [
  {
   "cell_type": "markdown",
   "id": "fe10fa58",
   "metadata": {},
   "source": [
    "# Arithmetic Operators"
   ]
  },
  {
   "cell_type": "code",
   "execution_count": 1,
   "id": "6aba5b1a",
   "metadata": {
    "scrolled": true
   },
   "outputs": [
    {
     "data": {
      "text/plain": [
       "2"
      ]
     },
     "execution_count": 1,
     "metadata": {},
     "output_type": "execute_result"
    }
   ],
   "source": [
    "1 + 1"
   ]
  },
  {
   "cell_type": "code",
   "execution_count": 2,
   "id": "89702b5a",
   "metadata": {
    "scrolled": true
   },
   "outputs": [
    {
     "data": {
      "text/plain": [
       "20"
      ]
     },
     "execution_count": 2,
     "metadata": {},
     "output_type": "execute_result"
    }
   ],
   "source": [
    "4 * 5"
   ]
  },
  {
   "cell_type": "code",
   "execution_count": 3,
   "id": "da79497e",
   "metadata": {
    "scrolled": false
   },
   "outputs": [
    {
     "data": {
      "text/plain": [
       "5"
      ]
     },
     "execution_count": 3,
     "metadata": {},
     "output_type": "execute_result"
    }
   ],
   "source": [
    "10 - 5"
   ]
  },
  {
   "cell_type": "markdown",
   "id": "3c89616a",
   "metadata": {},
   "source": [
    "Note: Division will always return a float"
   ]
  },
  {
   "cell_type": "code",
   "execution_count": 5,
   "id": "98417d48",
   "metadata": {
    "scrolled": true
   },
   "outputs": [
    {
     "data": {
      "text/plain": [
       "4.0"
      ]
     },
     "execution_count": 5,
     "metadata": {},
     "output_type": "execute_result"
    }
   ],
   "source": [
    "20 / 5"
   ]
  },
  {
   "cell_type": "markdown",
   "id": "dcd589bc",
   "metadata": {},
   "source": [
    "Operator % will give the remainder after a division"
   ]
  },
  {
   "cell_type": "code",
   "execution_count": 6,
   "id": "d292013f",
   "metadata": {},
   "outputs": [
    {
     "data": {
      "text/plain": [
       "2"
      ]
     },
     "execution_count": 6,
     "metadata": {},
     "output_type": "execute_result"
    }
   ],
   "source": [
    "20 % 6"
   ]
  },
  {
   "cell_type": "markdown",
   "id": "92823e0e",
   "metadata": {},
   "source": [
    "Operator ** raises to the power (squared, cubed, etc.)"
   ]
  },
  {
   "cell_type": "code",
   "execution_count": 4,
   "id": "68a388af",
   "metadata": {
    "scrolled": false
   },
   "outputs": [
    {
     "data": {
      "text/plain": [
       "25"
      ]
     },
     "execution_count": 4,
     "metadata": {},
     "output_type": "execute_result"
    }
   ],
   "source": [
    "5 ** 2"
   ]
  },
  {
   "cell_type": "markdown",
   "id": "e107f479",
   "metadata": {},
   "source": [
    "## Arithmetic Operators with Strings"
   ]
  },
  {
   "cell_type": "code",
   "execution_count": 7,
   "id": "95ab1361",
   "metadata": {
    "scrolled": true
   },
   "outputs": [
    {
     "data": {
      "text/plain": [
       "'string 1 string 2'"
      ]
     },
     "execution_count": 7,
     "metadata": {},
     "output_type": "execute_result"
    }
   ],
   "source": [
    "'string 1' + ' string 2'"
   ]
  },
  {
   "cell_type": "code",
   "execution_count": 10,
   "id": "51526e4b",
   "metadata": {},
   "outputs": [
    {
     "data": {
      "text/plain": [
       "'- string 1 -- string 1 -- string 1 -- string 1 -'"
      ]
     },
     "execution_count": 10,
     "metadata": {},
     "output_type": "execute_result"
    }
   ],
   "source": [
    "'- string 1 -' * 4"
   ]
  },
  {
   "cell_type": "markdown",
   "id": "64c55008",
   "metadata": {},
   "source": [
    "# Comparison, Logical, and Membership Operators"
   ]
  },
  {
   "cell_type": "markdown",
   "id": "e3d8b0c9",
   "metadata": {},
   "source": [
    "All of the following operators return a TRUE/FALSE output."
   ]
  },
  {
   "cell_type": "markdown",
   "id": "3aba31f5",
   "metadata": {},
   "source": [
    "## Comparison Operators"
   ]
  },
  {
   "cell_type": "code",
   "execution_count": 11,
   "id": "3c54bb70",
   "metadata": {},
   "outputs": [
    {
     "data": {
      "text/plain": [
       "True"
      ]
     },
     "execution_count": 11,
     "metadata": {},
     "output_type": "execute_result"
    }
   ],
   "source": [
    "13 == 10 + 3"
   ]
  },
  {
   "cell_type": "code",
   "execution_count": 13,
   "id": "a0fa62b4",
   "metadata": {},
   "outputs": [
    {
     "data": {
      "text/plain": [
       "True"
      ]
     },
     "execution_count": 13,
     "metadata": {},
     "output_type": "execute_result"
    }
   ],
   "source": [
    "4 <= 5"
   ]
  },
  {
   "cell_type": "code",
   "execution_count": 14,
   "id": "244b4a83",
   "metadata": {
    "scrolled": true
   },
   "outputs": [
    {
     "data": {
      "text/plain": [
       "False"
      ]
     },
     "execution_count": 14,
     "metadata": {},
     "output_type": "execute_result"
    }
   ],
   "source": [
    "4 > 5"
   ]
  },
  {
   "cell_type": "markdown",
   "id": "0c2cd5cb",
   "metadata": {},
   "source": [
    "## Logical Operators (and, or, not)"
   ]
  },
  {
   "cell_type": "markdown",
   "id": "da7a957d",
   "metadata": {},
   "source": [
    "and: all statements have to be true. Brackets are not required!"
   ]
  },
  {
   "cell_type": "code",
   "execution_count": 22,
   "id": "69c9a3d7",
   "metadata": {},
   "outputs": [
    {
     "data": {
      "text/plain": [
       "False"
      ]
     },
     "execution_count": 22,
     "metadata": {},
     "output_type": "execute_result"
    }
   ],
   "source": [
    "2 > 3 and 7 == 14 / 2"
   ]
  },
  {
   "cell_type": "code",
   "execution_count": 24,
   "id": "27adc812",
   "metadata": {
    "scrolled": true
   },
   "outputs": [
    {
     "data": {
      "text/plain": [
       "False"
      ]
     },
     "execution_count": 24,
     "metadata": {},
     "output_type": "execute_result"
    }
   ],
   "source": [
    "(2 < 1) and ( 7 == 14 / 2)"
   ]
  },
  {
   "cell_type": "markdown",
   "id": "6d1b0b9a",
   "metadata": {},
   "source": [
    "or: at least one of the statements have to be true."
   ]
  },
  {
   "cell_type": "code",
   "execution_count": 26,
   "id": "f8b7a767",
   "metadata": {},
   "outputs": [
    {
     "data": {
      "text/plain": [
       "True"
      ]
     },
     "execution_count": 26,
     "metadata": {},
     "output_type": "execute_result"
    }
   ],
   "source": [
    "(2 > 1) or (5 == 4 + 7)"
   ]
  },
  {
   "cell_type": "code",
   "execution_count": 27,
   "id": "517fad21",
   "metadata": {
    "scrolled": true
   },
   "outputs": [
    {
     "data": {
      "text/plain": [
       "False"
      ]
     },
     "execution_count": 27,
     "metadata": {},
     "output_type": "execute_result"
    }
   ],
   "source": [
    "(1 > 2) or (5 == 4 + 7)"
   ]
  },
  {
   "cell_type": "markdown",
   "id": "fa30f6a3",
   "metadata": {},
   "source": [
    "not: flips the boolean it's operating on"
   ]
  },
  {
   "cell_type": "code",
   "execution_count": 28,
   "id": "3b63c27f",
   "metadata": {},
   "outputs": [
    {
     "data": {
      "text/plain": [
       "False"
      ]
     },
     "execution_count": 28,
     "metadata": {},
     "output_type": "execute_result"
    }
   ],
   "source": [
    "not 5 == 3 + 2"
   ]
  },
  {
   "cell_type": "code",
   "execution_count": 30,
   "id": "4e6fc2fe",
   "metadata": {},
   "outputs": [
    {
     "data": {
      "text/plain": [
       "True"
      ]
     },
     "execution_count": 30,
     "metadata": {},
     "output_type": "execute_result"
    }
   ],
   "source": [
    "not 18 == 2 ** 3"
   ]
  },
  {
   "cell_type": "markdown",
   "id": "1a3acdea",
   "metadata": {},
   "source": [
    "## Membership Operators"
   ]
  },
  {
   "cell_type": "code",
   "execution_count": 31,
   "id": "7ba9830b",
   "metadata": {},
   "outputs": [
    {
     "data": {
      "text/plain": [
       "True"
      ]
     },
     "execution_count": 31,
     "metadata": {},
     "output_type": "execute_result"
    }
   ],
   "source": [
    "1 in [1,2,3,4,5]"
   ]
  },
  {
   "cell_type": "code",
   "execution_count": 32,
   "id": "a76ed48d",
   "metadata": {
    "scrolled": true
   },
   "outputs": [
    {
     "data": {
      "text/plain": [
       "False"
      ]
     },
     "execution_count": 32,
     "metadata": {},
     "output_type": "execute_result"
    }
   ],
   "source": [
    "7 in [1,2,3,4,5]"
   ]
  },
  {
   "cell_type": "code",
   "execution_count": 33,
   "id": "976fc23d",
   "metadata": {
    "scrolled": true
   },
   "outputs": [
    {
     "data": {
      "text/plain": [
       "True"
      ]
     },
     "execution_count": 33,
     "metadata": {},
     "output_type": "execute_result"
    }
   ],
   "source": [
    "7 not in [1,2,3,4,5]"
   ]
  },
  {
   "cell_type": "markdown",
   "id": "c85b5d4d",
   "metadata": {},
   "source": [
    "this also works for strings"
   ]
  },
  {
   "cell_type": "code",
   "execution_count": 34,
   "id": "b145b801",
   "metadata": {},
   "outputs": [
    {
     "data": {
      "text/plain": [
       "True"
      ]
     },
     "execution_count": 34,
     "metadata": {},
     "output_type": "execute_result"
    }
   ],
   "source": [
    "'cat' in 'my pet cat Taylor'"
   ]
  },
  {
   "cell_type": "markdown",
   "id": "a6f79026",
   "metadata": {},
   "source": [
    "note that the string does not need to be separated by a space to return true!"
   ]
  },
  {
   "cell_type": "code",
   "execution_count": 35,
   "id": "20e506c6",
   "metadata": {
    "scrolled": true
   },
   "outputs": [
    {
     "data": {
      "text/plain": [
       "True"
      ]
     },
     "execution_count": 35,
     "metadata": {},
     "output_type": "execute_result"
    }
   ],
   "source": [
    "'cat' in 'catastrophe'"
   ]
  },
  {
   "cell_type": "code",
   "execution_count": 36,
   "id": "c5618171",
   "metadata": {},
   "outputs": [
    {
     "data": {
      "text/plain": [
       "False"
      ]
     },
     "execution_count": 36,
     "metadata": {},
     "output_type": "execute_result"
    }
   ],
   "source": [
    "'cat' not in 'catastrophe'"
   ]
  }
 ],
 "metadata": {
  "kernelspec": {
   "display_name": "Python 3 (ipykernel)",
   "language": "python",
   "name": "python3"
  },
  "language_info": {
   "codemirror_mode": {
    "name": "ipython",
    "version": 3
   },
   "file_extension": ".py",
   "mimetype": "text/x-python",
   "name": "python",
   "nbconvert_exporter": "python",
   "pygments_lexer": "ipython3",
   "version": "3.11.3"
  }
 },
 "nbformat": 4,
 "nbformat_minor": 5
}
