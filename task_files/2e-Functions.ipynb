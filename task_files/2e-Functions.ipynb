{
 "cells": [
  {
   "cell_type": "markdown",
   "id": "aa17169b",
   "metadata": {},
   "source": [
    "# Functions"
   ]
  },
  {
   "cell_type": "code",
   "execution_count": 1,
   "id": "b2ec5c93",
   "metadata": {},
   "outputs": [],
   "source": [
    "def multiplyByThree(val):\n",
    "    return 3 * val"
   ]
  },
  {
   "cell_type": "code",
   "execution_count": 2,
   "id": "4e59bd91",
   "metadata": {
    "scrolled": true
   },
   "outputs": [
    {
     "data": {
      "text/plain": [
       "12"
      ]
     },
     "execution_count": 2,
     "metadata": {},
     "output_type": "execute_result"
    }
   ],
   "source": [
    "multiplyByThree(4)"
   ]
  },
  {
   "cell_type": "code",
   "execution_count": 4,
   "id": "b795a4a2",
   "metadata": {},
   "outputs": [],
   "source": [
    "def multiply(val1, val2):\n",
    "    return val1 * val2"
   ]
  },
  {
   "cell_type": "code",
   "execution_count": 5,
   "id": "3aa988f9",
   "metadata": {},
   "outputs": [
    {
     "data": {
      "text/plain": [
       "24"
      ]
     },
     "execution_count": 5,
     "metadata": {},
     "output_type": "execute_result"
    }
   ],
   "source": [
    "multiply(2, 12)"
   ]
  },
  {
   "cell_type": "code",
   "execution_count": 6,
   "id": "8bdb1b2a",
   "metadata": {},
   "outputs": [],
   "source": [
    "def appendFour(myList):\n",
    "    myList.append(4)"
   ]
  },
  {
   "cell_type": "code",
   "execution_count": 8,
   "id": "01ceb810",
   "metadata": {
    "scrolled": true
   },
   "outputs": [
    {
     "name": "stdout",
     "output_type": "stream",
     "text": [
      "[1, 2, 3, 4]\n"
     ]
    }
   ],
   "source": [
    "a = [1,2,3]\n",
    "appendFour(a)\n",
    "print(a)"
   ]
  },
  {
   "cell_type": "markdown",
   "id": "fb59ddd0",
   "metadata": {},
   "source": [
    "Note: the print function doesn't actually return anything"
   ]
  },
  {
   "cell_type": "code",
   "execution_count": 10,
   "id": "7be405ee",
   "metadata": {
    "scrolled": true
   },
   "outputs": [
    {
     "name": "stdout",
     "output_type": "stream",
     "text": [
      "Print me!\n",
      "None\n"
     ]
    }
   ],
   "source": [
    "print(print('Print me!'))"
   ]
  },
  {
   "cell_type": "markdown",
   "id": "d8101532",
   "metadata": {},
   "source": [
    "In Python, \"None\" is how empty values are presented"
   ]
  },
  {
   "cell_type": "code",
   "execution_count": 11,
   "id": "ffa3b031",
   "metadata": {
    "scrolled": true
   },
   "outputs": [
    {
     "data": {
      "text/plain": [
       "NoneType"
      ]
     },
     "execution_count": 11,
     "metadata": {},
     "output_type": "execute_result"
    }
   ],
   "source": [
    "type(None)"
   ]
  },
  {
   "cell_type": "code",
   "execution_count": 12,
   "id": "1de8333e",
   "metadata": {},
   "outputs": [
    {
     "ename": "TypeError",
     "evalue": "unsupported operand type(s) for +: 'NoneType' and 'int'",
     "output_type": "error",
     "traceback": [
      "\u001b[1;31m---------------------------------------------------------------------------\u001b[0m",
      "\u001b[1;31mTypeError\u001b[0m                                 Traceback (most recent call last)",
      "Cell \u001b[1;32mIn[12], line 1\u001b[0m\n\u001b[1;32m----> 1\u001b[0m \u001b[38;5;28;43;01mNone\u001b[39;49;00m\u001b[43m \u001b[49m\u001b[38;5;241;43m+\u001b[39;49m\u001b[43m \u001b[49m\u001b[38;5;241;43m1\u001b[39;49m\n",
      "\u001b[1;31mTypeError\u001b[0m: unsupported operand type(s) for +: 'NoneType' and 'int'"
     ]
    }
   ],
   "source": [
    "None + 1"
   ]
  }
 ],
 "metadata": {
  "kernelspec": {
   "display_name": "Python 3 (ipykernel)",
   "language": "python",
   "name": "python3"
  },
  "language_info": {
   "codemirror_mode": {
    "name": "ipython",
    "version": 3
   },
   "file_extension": ".py",
   "mimetype": "text/x-python",
   "name": "python",
   "nbconvert_exporter": "python",
   "pygments_lexer": "ipython3",
   "version": "3.11.3"
  }
 },
 "nbformat": 4,
 "nbformat_minor": 5
}
