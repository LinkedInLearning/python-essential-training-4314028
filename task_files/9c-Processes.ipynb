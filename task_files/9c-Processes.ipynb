{
 "cells": [
  {
   "cell_type": "code",
   "execution_count": 25,
   "id": "858e1d2b",
   "metadata": {},
   "outputs": [],
   "source": [
    "from multiprocessing import Process\n",
    "import time\n",
    "import threading"
   ]
  },
  {
   "cell_type": "code",
   "execution_count": null,
   "id": "8642575e",
   "metadata": {},
   "outputs": [],
   "source": [
    "# For some reason, the multiprocessing isn't allowing functions to print"
   ]
  },
  {
   "cell_type": "markdown",
   "id": "cea071ce",
   "metadata": {},
   "source": [
    "# Processes"
   ]
  },
  {
   "cell_type": "code",
   "execution_count": 1,
   "id": "6c5d9716",
   "metadata": {},
   "outputs": [
    {
     "ename": "NameError",
     "evalue": "name 'Process' is not defined",
     "output_type": "error",
     "traceback": [
      "\u001b[1;31m---------------------------------------------------------------------------\u001b[0m",
      "\u001b[1;31mNameError\u001b[0m                                 Traceback (most recent call last)",
      "Cell \u001b[1;32mIn[1], line 7\u001b[0m\n\u001b[0;32m      4\u001b[0m     results \u001b[38;5;241m=\u001b[39m results \u001b[38;5;241m+\u001b[39m num\n\u001b[0;32m      6\u001b[0m results \u001b[38;5;241m=\u001b[39m \u001b[38;5;241m0\u001b[39m\n\u001b[1;32m----> 7\u001b[0m p1 \u001b[38;5;241m=\u001b[39m \u001b[43mProcess\u001b[49m(target\u001b[38;5;241m=\u001b[39mlongSquare, args\u001b[38;5;241m=\u001b[39m(\u001b[38;5;241m1\u001b[39m,))\n\u001b[0;32m      8\u001b[0m p2 \u001b[38;5;241m=\u001b[39m Process(target\u001b[38;5;241m=\u001b[39mlongSquare, args\u001b[38;5;241m=\u001b[39m(\u001b[38;5;241m2\u001b[39m,))\n\u001b[0;32m     10\u001b[0m p1\u001b[38;5;241m.\u001b[39mstart()\n",
      "\u001b[1;31mNameError\u001b[0m: name 'Process' is not defined"
     ]
    }
   ],
   "source": [
    "def longSquare(num):\n",
    "    time.sleep(1)\n",
    "    print(num**2)\n",
    "    results = results + num\n",
    "\n",
    "results = 0\n",
    "p1 = Process(target=longSquare, args=(1,))\n",
    "p2 = Process(target=longSquare, args=(2,))\n",
    "\n",
    "p1.start()\n",
    "p2.start()\n",
    "\n",
    "p1.join()\n",
    "p2.join()\n",
    "\n",
    "print(results)\n"
   ]
  },
  {
   "cell_type": "code",
   "execution_count": 12,
   "id": "c8475a15",
   "metadata": {},
   "outputs": [
    {
     "name": "stdout",
     "output_type": "stream",
     "text": [
      "4\n"
     ]
    }
   ],
   "source": [
    "def testFunc(num):\n",
    "    print(num**2)\n",
    "    \n",
    "testFunc(2)"
   ]
  },
  {
   "cell_type": "code",
   "execution_count": 27,
   "id": "aff386fc",
   "metadata": {},
   "outputs": [
    {
     "name": "stdout",
     "output_type": "stream",
     "text": [
      "{1: 1, 0: 0, 2: 4, 3: 9, 4: 16, 6: 36, 5: 25, 7: 49, 8: 64, 9: 81, 10: 100, 12: 144, 11: 121, 13: 169, 14: 196, 15: 225, 16: 256, 18: 324, 17: 289, 19: 361, 20: 400, 21: 441, 22: 484, 24: 576, 23: 529, 25: 625, 26: 676, 27: 729, 28: 784, 30: 900, 29: 841, 31: 961, 33: 1089, 32: 1024, 34: 1156, 35: 1225, 36: 1296, 38: 1444, 37: 1369, 39: 1521, 41: 1681, 40: 1600, 43: 1849, 42: 1764, 44: 1936, 45: 2025, 47: 2209, 46: 2116, 49: 2401, 48: 2304, 50: 2500, 52: 2704, 51: 2601, 54: 2916, 53: 2809, 55: 3025, 56: 3136, 57: 3249, 58: 3364, 59: 3481, 60: 3600, 61: 3721, 62: 3844, 63: 3969, 64: 4096, 66: 4356, 65: 4225, 68: 4624, 67: 4489, 69: 4761, 70: 4900, 71: 5041, 73: 5329, 72: 5184, 74: 5476, 76: 5776, 75: 5625, 78: 6084, 77: 5929, 79: 6241, 81: 6561, 80: 6400, 82: 6724, 83: 6889, 86: 7396, 85: 7225, 84: 7056, 88: 7744, 87: 7569, 91: 8281, 89: 7921, 90: 8100, 94: 8836, 93: 8649, 92: 8464, 95: 9025, 96: 9216, 98: 9604, 97: 9409, 99: 9801}\n"
     ]
    }
   ],
   "source": [
    "def longSquare(num, results):\n",
    "    time.sleep(1)\n",
    "    results[num] = num**2\n",
    "\n",
    "results = {}\n",
    "threads = [threading.Thread(target=longSquare, args=(n, results)) for n in range(0, 100)]\n",
    "[t.start() for t in threads]\n",
    "[t.join() for t in threads]\n",
    "\n",
    "print(results)"
   ]
  }
 ],
 "metadata": {
  "kernelspec": {
   "display_name": "Python 3 (ipykernel)",
   "language": "python",
   "name": "python3"
  },
  "language_info": {
   "codemirror_mode": {
    "name": "ipython",
    "version": 3
   },
   "file_extension": ".py",
   "mimetype": "text/x-python",
   "name": "python",
   "nbconvert_exporter": "python",
   "pygments_lexer": "ipython3",
   "version": "3.11.3"
  }
 },
 "nbformat": 4,
 "nbformat_minor": 5
}
