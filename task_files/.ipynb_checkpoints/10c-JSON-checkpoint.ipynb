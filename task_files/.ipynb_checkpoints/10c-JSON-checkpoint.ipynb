{
 "cells": [
  {
   "cell_type": "code",
   "execution_count": 10,
   "id": "5cc7b1ab",
   "metadata": {},
   "outputs": [],
   "source": [
    "import json\n",
    "from json import JSONDecodeError, JSONEncoder"
   ]
  },
  {
   "cell_type": "markdown",
   "id": "2b93ceed",
   "metadata": {},
   "source": [
    "# JSON"
   ]
  },
  {
   "cell_type": "markdown",
   "id": "c5a70c56",
   "metadata": {},
   "source": [
    "## Loading"
   ]
  },
  {
   "cell_type": "code",
   "execution_count": null,
   "id": "c60f6661",
   "metadata": {},
   "outputs": [],
   "source": [
    "# Note: json strings cant end with a comma like a python dictonary can!"
   ]
  },
  {
   "cell_type": "code",
   "execution_count": 12,
   "id": "36fbbeb0",
   "metadata": {
    "scrolled": true
   },
   "outputs": [
    {
     "name": "stdout",
     "output_type": "stream",
     "text": [
      "Could not parse JSON!\n"
     ]
    }
   ],
   "source": [
    "jsonStr = '{\"a\": \"apple\", \"b\": \"banana\", \"c\": \"cucumber\",}'\n",
    "try:\n",
    "    json.loads(jsonStr)\n",
    "except JSONDecodeError:\n",
    "    print('Could not parse JSON!')"
   ]
  },
  {
   "cell_type": "code",
   "execution_count": 6,
   "id": "cd8fb339",
   "metadata": {},
   "outputs": [
    {
     "data": {
      "text/plain": [
       "{'a': 'apple', 'b': 'banana', 'c': 'cucumber'}"
      ]
     },
     "execution_count": 6,
     "metadata": {},
     "output_type": "execute_result"
    }
   ],
   "source": [
    "{\"a\": \"apple\", \"b\": \"banana\", \"c\": \"cucumber\",}\n"
   ]
  },
  {
   "cell_type": "markdown",
   "id": "a6026df3",
   "metadata": {},
   "source": [
    "## Dumping"
   ]
  },
  {
   "cell_type": "code",
   "execution_count": 7,
   "id": "f467b791",
   "metadata": {},
   "outputs": [
    {
     "data": {
      "text/plain": [
       "'{\"a\": \"apple\", \"b\": \"banana\", \"c\": \"cucumber\"}'"
      ]
     },
     "execution_count": 7,
     "metadata": {},
     "output_type": "execute_result"
    }
   ],
   "source": [
    "pyDict = {'a': 'apple', 'b': 'banana', 'c': 'cucumber'}\n",
    "json.dumps(pyDict)"
   ]
  },
  {
   "cell_type": "markdown",
   "id": "f1994c08",
   "metadata": {},
   "source": [
    "## Custom Decoders"
   ]
  },
  {
   "cell_type": "code",
   "execution_count": 11,
   "id": "947c49a3",
   "metadata": {},
   "outputs": [
    {
     "data": {
      "text/plain": [
       "'{\"a\": \"anteater\", \"b\": \"bluebird\", \"c\": \"cat\"}'"
      ]
     },
     "execution_count": 11,
     "metadata": {},
     "output_type": "execute_result"
    }
   ],
   "source": [
    "class Animal:\n",
    "    def __init__(self, name):\n",
    "        self.name = name\n",
    "\n",
    "class AnimalEncoder(JSONEncoder):\n",
    "    def default(self, obj):\n",
    "        if type(obj) == Animal:\n",
    "            return obj.name\n",
    "        else:\n",
    "            return super().default(obj)\n",
    "\n",
    "animalDict = {'a': Animal('anteater'), 'b': Animal('bluebird'), 'c': Animal('cat'),}\n",
    "json.dumps(animalDict, cls=AnimalEncoder)"
   ]
  },
  {
   "cell_type": "code",
   "execution_count": null,
   "id": "4bb47d08",
   "metadata": {},
   "outputs": [],
   "source": []
  }
 ],
 "metadata": {
  "kernelspec": {
   "display_name": "Python 3 (ipykernel)",
   "language": "python",
   "name": "python3"
  },
  "language_info": {
   "codemirror_mode": {
    "name": "ipython",
    "version": 3
   },
   "file_extension": ".py",
   "mimetype": "text/x-python",
   "name": "python",
   "nbconvert_exporter": "python",
   "pygments_lexer": "ipython3",
   "version": "3.11.3"
  }
 },
 "nbformat": 4,
 "nbformat_minor": 5
}
