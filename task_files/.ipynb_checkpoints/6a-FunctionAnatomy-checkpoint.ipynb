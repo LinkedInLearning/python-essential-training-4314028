{
 "cells": [
  {
   "cell_type": "markdown",
   "id": "96ba5775",
   "metadata": {},
   "source": [
    "# Functions"
   ]
  },
  {
   "cell_type": "code",
   "execution_count": 1,
   "id": "7873f201",
   "metadata": {},
   "outputs": [],
   "source": [
    "def performOperation(num1, num2, operation):\n",
    "    if operation == 'sum' or operation == 'add':\n",
    "        return num1 + num2\n",
    "    if operation == 'multiply' or operation == 'times':\n",
    "        return num1 * num2\n",
    "    "
   ]
  },
  {
   "cell_type": "code",
   "execution_count": 2,
   "id": "c80abf28",
   "metadata": {},
   "outputs": [
    {
     "data": {
      "text/plain": [
       "5"
      ]
     },
     "execution_count": 2,
     "metadata": {},
     "output_type": "execute_result"
    }
   ],
   "source": [
    "performOperation(2, 3, 'sum')"
   ]
  },
  {
   "cell_type": "markdown",
   "id": "b2a71a7b",
   "metadata": {},
   "source": [
    "## Named Parameters"
   ]
  },
  {
   "cell_type": "code",
   "execution_count": 9,
   "id": "b98384ab",
   "metadata": {},
   "outputs": [],
   "source": [
    "def performOperation(num1, num2, operation='sum', message='Default message'):\n",
    "    print(message)\n",
    "    if operation == 'sum' or operation == 'add':\n",
    "        return num1 + num2\n",
    "    if operation == 'multiply' or operation == 'times':\n",
    "        return num1 * num2"
   ]
  },
  {
   "cell_type": "code",
   "execution_count": 5,
   "id": "d455cd80",
   "metadata": {},
   "outputs": [
    {
     "data": {
      "text/plain": [
       "5"
      ]
     },
     "execution_count": 5,
     "metadata": {},
     "output_type": "execute_result"
    }
   ],
   "source": [
    "performOperation(2, 3)"
   ]
  },
  {
   "cell_type": "code",
   "execution_count": 7,
   "id": "e4783c5d",
   "metadata": {
    "scrolled": true
   },
   "outputs": [
    {
     "data": {
      "text/plain": [
       "6"
      ]
     },
     "execution_count": 7,
     "metadata": {},
     "output_type": "execute_result"
    }
   ],
   "source": [
    "performOperation(2, 3, operation = 'multiply')"
   ]
  },
  {
   "cell_type": "code",
   "execution_count": 10,
   "id": "512dd1d3",
   "metadata": {},
   "outputs": [
    {
     "name": "stdout",
     "output_type": "stream",
     "text": [
      "hi!\n"
     ]
    },
    {
     "data": {
      "text/plain": [
       "6"
      ]
     },
     "execution_count": 10,
     "metadata": {},
     "output_type": "execute_result"
    }
   ],
   "source": [
    "performOperation(2, 3, operation = 'multiply', message = 'hi!')"
   ]
  },
  {
   "cell_type": "markdown",
   "id": "82aced26",
   "metadata": {},
   "source": [
    "## *args"
   ]
  },
  {
   "cell_type": "code",
   "execution_count": 14,
   "id": "20bfb1a5",
   "metadata": {},
   "outputs": [
    {
     "name": "stdout",
     "output_type": "stream",
     "text": [
      "(1, 2, 3)\n"
     ]
    }
   ],
   "source": [
    "def PerOp(*args):\n",
    "    print(args)\n",
    "\n",
    "PerOp(1,2,3)"
   ]
  },
  {
   "cell_type": "markdown",
   "id": "abe1c3bf",
   "metadata": {},
   "source": [
    "## *kwargs"
   ]
  },
  {
   "cell_type": "code",
   "execution_count": 15,
   "id": "5b268199",
   "metadata": {},
   "outputs": [
    {
     "name": "stdout",
     "output_type": "stream",
     "text": [
      "(1, 2, 3)\n",
      "{'operation': 'sum'}\n"
     ]
    }
   ],
   "source": [
    "def perOp(*args, **kwargs):\n",
    "    print(args)\n",
    "    print(kwargs)\n",
    "\n",
    "perOp(1,2,3, operation='sum')"
   ]
  },
  {
   "cell_type": "code",
   "execution_count": null,
   "id": "f539395f",
   "metadata": {},
   "outputs": [],
   "source": [
    "# Arg outputs are tuples, keyword outputs are dictionaries"
   ]
  },
  {
   "cell_type": "markdown",
   "id": "296d7ecf",
   "metadata": {},
   "source": [
    "## Rewrite code for flexibility"
   ]
  },
  {
   "cell_type": "code",
   "execution_count": 16,
   "id": "6f4b26ec",
   "metadata": {},
   "outputs": [],
   "source": [
    "import math"
   ]
  },
  {
   "cell_type": "code",
   "execution_count": 19,
   "id": "cc74ed85",
   "metadata": {},
   "outputs": [],
   "source": [
    "def performOperation(*args, operation = 'sum'):\n",
    "    if operation == 'sum' or operation == 'add':\n",
    "        return sum(args)\n",
    "    if operation == 'multiply' or operation == 'times' or operation == 'product':\n",
    "        return math.prod(args)"
   ]
  },
  {
   "cell_type": "code",
   "execution_count": 21,
   "id": "ea05fa16",
   "metadata": {},
   "outputs": [
    {
     "data": {
      "text/plain": [
       "10"
      ]
     },
     "execution_count": 21,
     "metadata": {},
     "output_type": "execute_result"
    }
   ],
   "source": [
    "performOperation(1,2,7, operation = 'product')"
   ]
  }
 ],
 "metadata": {
  "kernelspec": {
   "display_name": "Python 3 (ipykernel)",
   "language": "python",
   "name": "python3"
  },
  "language_info": {
   "codemirror_mode": {
    "name": "ipython",
    "version": 3
   },
   "file_extension": ".py",
   "mimetype": "text/x-python",
   "name": "python",
   "nbconvert_exporter": "python",
   "pygments_lexer": "ipython3",
   "version": "3.11.3"
  }
 },
 "nbformat": 4,
 "nbformat_minor": 5
}
