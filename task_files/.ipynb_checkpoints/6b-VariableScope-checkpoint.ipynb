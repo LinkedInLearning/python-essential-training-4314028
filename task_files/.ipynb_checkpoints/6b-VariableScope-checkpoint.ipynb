{
 "cells": [
  {
   "cell_type": "markdown",
   "id": "aaa0e2c3",
   "metadata": {},
   "source": [
    "# Function Scope"
   ]
  },
  {
   "cell_type": "code",
   "execution_count": 1,
   "id": "e7fc3403",
   "metadata": {},
   "outputs": [
    {
     "name": "stdout",
     "output_type": "stream",
     "text": [
      "(1, 2, 3)\n",
      "{'operation': 'sum'}\n"
     ]
    }
   ],
   "source": [
    "def func(*args, **kwargs):\n",
    "    print(args)\n",
    "    print(kwargs)\n",
    "\n",
    "func(1,2,3, operation ='sum')"
   ]
  },
  {
   "cell_type": "markdown",
   "id": "e2cd7e26",
   "metadata": {},
   "source": [
    "## locals()"
   ]
  },
  {
   "cell_type": "code",
   "execution_count": 3,
   "id": "a99048bf",
   "metadata": {},
   "outputs": [
    {
     "name": "stdout",
     "output_type": "stream",
     "text": [
      "{'num1': 1, 'num2': 2, 'operation': 'multiply'}\n"
     ]
    }
   ],
   "source": [
    "def func(num1, num2, operation='sum'):\n",
    "    print(locals())\n",
    "\n",
    "func(1,2,operation='multiply')"
   ]
  },
  {
   "cell_type": "code",
   "execution_count": null,
   "id": "45746214",
   "metadata": {},
   "outputs": [],
   "source": [
    "# Things defined within the function"
   ]
  },
  {
   "cell_type": "markdown",
   "id": "a8d2c0a0",
   "metadata": {},
   "source": [
    "## globals()"
   ]
  },
  {
   "cell_type": "code",
   "execution_count": 4,
   "id": "a516439d",
   "metadata": {
    "scrolled": true
   },
   "outputs": [
    {
     "name": "stdout",
     "output_type": "stream",
     "text": [
      "{'__name__': '__main__', '__doc__': 'Automatically created module for IPython interactive environment', '__package__': None, '__loader__': None, '__spec__': None, '__builtin__': <module 'builtins' (built-in)>, '__builtins__': <module 'builtins' (built-in)>, '_ih': ['', \"def func(*args, **kwargs):\\n    print(args)\\n    print(kwargs)\\n\\nfunc(1,2,3, operation ='sum')\", \"def func(num1, num2, operation='sum'):\\n    print(locals())\\n\\nfunc(1,2,operation=multiply)\", \"def func(num1, num2, operation='sum'):\\n    print(locals())\\n\\nfunc(1,2,operation='multiply')\", \"def func(num1, num2, operation='sum'):\\n    print(globals())\\n\\nfunc(1,2,operation='multiply')\"], '_oh': {}, '_dh': [WindowsPath('C:/Users/dturner/Documents/GitHub/Python-Course/task_files')], 'In': ['', \"def func(*args, **kwargs):\\n    print(args)\\n    print(kwargs)\\n\\nfunc(1,2,3, operation ='sum')\", \"def func(num1, num2, operation='sum'):\\n    print(locals())\\n\\nfunc(1,2,operation=multiply)\", \"def func(num1, num2, operation='sum'):\\n    print(locals())\\n\\nfunc(1,2,operation='multiply')\", \"def func(num1, num2, operation='sum'):\\n    print(globals())\\n\\nfunc(1,2,operation='multiply')\"], 'Out': {}, 'get_ipython': <bound method InteractiveShell.get_ipython of <ipykernel.zmqshell.ZMQInteractiveShell object at 0x0000015817A5A910>>, 'exit': <IPython.core.autocall.ZMQExitAutocall object at 0x0000015818EB3C10>, 'quit': <IPython.core.autocall.ZMQExitAutocall object at 0x0000015818EB3C10>, 'open': <function open at 0x0000015816BCC0E0>, '_': '', '__': '', '___': '', '_i': \"def func(num1, num2, operation='sum'):\\n    print(locals())\\n\\nfunc(1,2,operation='multiply')\", '_ii': \"def func(num1, num2, operation='sum'):\\n    print(locals())\\n\\nfunc(1,2,operation=multiply)\", '_iii': \"def func(*args, **kwargs):\\n    print(args)\\n    print(kwargs)\\n\\nfunc(1,2,3, operation ='sum')\", '_i1': \"def func(*args, **kwargs):\\n    print(args)\\n    print(kwargs)\\n\\nfunc(1,2,3, operation ='sum')\", 'func': <function func at 0x0000015819058EA0>, '_i2': \"def func(num1, num2, operation='sum'):\\n    print(locals())\\n\\nfunc(1,2,operation=multiply)\", '_i3': \"def func(num1, num2, operation='sum'):\\n    print(locals())\\n\\nfunc(1,2,operation='multiply')\", '_i4': \"def func(num1, num2, operation='sum'):\\n    print(globals())\\n\\nfunc(1,2,operation='multiply')\"}\n"
     ]
    }
   ],
   "source": [
    "def func(num1, num2, operation='sum'):\n",
    "    print(globals())\n",
    "\n",
    "func(1,2,operation='multiply')"
   ]
  },
  {
   "cell_type": "code",
   "execution_count": null,
   "id": "bd04940b",
   "metadata": {},
   "outputs": [],
   "source": [
    "# Things that are defined outside the function"
   ]
  },
  {
   "cell_type": "markdown",
   "id": "bad67edc",
   "metadata": {},
   "source": [
    "## Global and local scope"
   ]
  },
  {
   "cell_type": "code",
   "execution_count": 10,
   "id": "479bda07",
   "metadata": {},
   "outputs": [
    {
     "name": "stdout",
     "output_type": "stream",
     "text": [
      "1\n",
      "Some global data\n",
      "{'varA': 1, 'varB': 2}\n",
      "2\n",
      "Some global data\n",
      "{'varC': 3, 'varB': 4}\n"
     ]
    }
   ],
   "source": [
    "message = 'Some global data'\n",
    "varA = 2\n",
    "\n",
    "def func1(varA, varB):\n",
    "    print(varA)\n",
    "    print(message)\n",
    "    print(locals())\n",
    "    \n",
    "def func2(varC, varB):\n",
    "    print(varA)\n",
    "    print(message)\n",
    "    print(locals())\n",
    "\n",
    "func1(1,2)\n",
    "func2(3,4)"
   ]
  },
  {
   "cell_type": "code",
   "execution_count": null,
   "id": "107bb33c",
   "metadata": {},
   "outputs": [],
   "source": [
    "# Func1 uses local scope definition if varA, Func2 uses global scope\n",
    "# Python checks local scope first"
   ]
  },
  {
   "cell_type": "code",
   "execution_count": 11,
   "id": "83a3d41a",
   "metadata": {
    "scrolled": true
   },
   "outputs": [
    {
     "name": "stdout",
     "output_type": "stream",
     "text": [
      "1\n",
      "inner function local scope: {'varA': 123, 'varB': 456}\n"
     ]
    }
   ],
   "source": [
    "def func1(varA, varB):\n",
    "    message = 'Some local data'\n",
    "    print(varA)\n",
    "    def func2(varA, varB):\n",
    "        print(f'inner function local scope: {locals()}')\n",
    "    \n",
    "    func2(123,456)\n",
    "    \n",
    "func1(1,2)\n"
   ]
  },
  {
   "cell_type": "code",
   "execution_count": 12,
   "id": "879080fd",
   "metadata": {},
   "outputs": [
    {
     "name": "stdout",
     "output_type": "stream",
     "text": [
      "1\n",
      "{'varA': 1, 'varB': 2, 'message': 'Some local data', 'func2': <function func1.<locals>.func2 at 0x0000015819059620>}\n",
      "inner function local scope: {'varA': 123, 'varB': 456}\n"
     ]
    }
   ],
   "source": [
    "def func1(varA, varB):\n",
    "    message = 'Some local data'\n",
    "    print(varA)\n",
    "    def func2(varA, varB):\n",
    "        print(f'inner function local scope: {locals()}')\n",
    "    \n",
    "    print(locals())\n",
    "    func2(123,456)\n",
    "    \n",
    "func1(1,2)\n"
   ]
  }
 ],
 "metadata": {
  "kernelspec": {
   "display_name": "Python 3 (ipykernel)",
   "language": "python",
   "name": "python3"
  },
  "language_info": {
   "codemirror_mode": {
    "name": "ipython",
    "version": 3
   },
   "file_extension": ".py",
   "mimetype": "text/x-python",
   "name": "python",
   "nbconvert_exporter": "python",
   "pygments_lexer": "ipython3",
   "version": "3.11.3"
  }
 },
 "nbformat": 4,
 "nbformat_minor": 5
}
