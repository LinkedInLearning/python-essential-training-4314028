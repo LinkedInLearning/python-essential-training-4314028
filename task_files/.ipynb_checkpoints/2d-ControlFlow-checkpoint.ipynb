{
 "cells": [
  {
   "cell_type": "markdown",
   "id": "58f4904f",
   "metadata": {},
   "source": [
    "# Control Flow"
   ]
  },
  {
   "cell_type": "markdown",
   "id": "c8a11903",
   "metadata": {},
   "source": [
    "## If/else statements"
   ]
  },
  {
   "cell_type": "markdown",
   "id": "2e3b38f9",
   "metadata": {},
   "source": [
    "Indented code belongs to the above if statement"
   ]
  },
  {
   "cell_type": "code",
   "execution_count": 2,
   "id": "a9bd4af1",
   "metadata": {
    "scrolled": true
   },
   "outputs": [
    {
     "name": "stdout",
     "output_type": "stream",
     "text": [
      "It is true!\n"
     ]
    }
   ],
   "source": [
    "a = True\n",
    "if a:\n",
    "    print('It is true!')"
   ]
  },
  {
   "cell_type": "code",
   "execution_count": 3,
   "id": "28f71faa",
   "metadata": {},
   "outputs": [],
   "source": [
    "a = False\n",
    "if a:\n",
    "    print('It is true!')"
   ]
  },
  {
   "cell_type": "code",
   "execution_count": 7,
   "id": "cd337747",
   "metadata": {},
   "outputs": [
    {
     "name": "stdout",
     "output_type": "stream",
     "text": [
      "It is true!\n",
      "Also print this!\n",
      "Both are true!\n",
      "Always print this!\n"
     ]
    }
   ],
   "source": [
    "a = True\n",
    "b = True\n",
    "if a:\n",
    "    print('It is true!')\n",
    "    print('Also print this!')\n",
    "    if b:\n",
    "        print('Both are true!')\n",
    "else:\n",
    "    print('It is false!')\n",
    "print('Always print this!')"
   ]
  },
  {
   "cell_type": "markdown",
   "id": "22d6f749",
   "metadata": {},
   "source": [
    "## For loops"
   ]
  },
  {
   "cell_type": "code",
   "execution_count": 11,
   "id": "eb65420a",
   "metadata": {},
   "outputs": [
    {
     "name": "stdout",
     "output_type": "stream",
     "text": [
      "1\n",
      "2\n",
      "3\n",
      "4\n",
      "5\n"
     ]
    }
   ],
   "source": [
    "a = [1,2,3,4,5]\n",
    "for loop_name in a:\n",
    "    print(loop_name)"
   ]
  },
  {
   "cell_type": "markdown",
   "id": "912ca919",
   "metadata": {},
   "source": [
    "## While loops"
   ]
  },
  {
   "cell_type": "code",
   "execution_count": 13,
   "id": "2b4143e0",
   "metadata": {},
   "outputs": [
    {
     "name": "stdout",
     "output_type": "stream",
     "text": [
      "0\n",
      "0.75\n",
      "1.5\n",
      "2.25\n",
      "3.0\n",
      "3.75\n",
      "4.5\n",
      "5.25\n",
      "6.0\n",
      "6.75\n",
      "7.5\n",
      "8.25\n",
      "9.0\n",
      "9.75\n"
     ]
    }
   ],
   "source": [
    "a = 0\n",
    "while a < 10:\n",
    "    print(a)\n",
    "    a = a + 0.75"
   ]
  },
  {
   "cell_type": "code",
   "execution_count": null,
   "id": "2b2b1b9e",
   "metadata": {},
   "outputs": [],
   "source": []
  }
 ],
 "metadata": {
  "kernelspec": {
   "display_name": "Python 3 (ipykernel)",
   "language": "python",
   "name": "python3"
  },
  "language_info": {
   "codemirror_mode": {
    "name": "ipython",
    "version": 3
   },
   "file_extension": ".py",
   "mimetype": "text/x-python",
   "name": "python",
   "nbconvert_exporter": "python",
   "pygments_lexer": "ipython3",
   "version": "3.11.3"
  }
 },
 "nbformat": 4,
 "nbformat_minor": 5
}
