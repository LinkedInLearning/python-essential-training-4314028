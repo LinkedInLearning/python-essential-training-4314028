{
 "cells": [
  {
   "cell_type": "markdown",
   "id": "699540cd",
   "metadata": {},
   "source": [
    "# Classes"
   ]
  },
  {
   "cell_type": "markdown",
   "id": "eb786f55",
   "metadata": {},
   "source": [
    "Note: the initialisation function in Python is always \"__init__\"!"
   ]
  },
  {
   "cell_type": "code",
   "execution_count": 25,
   "id": "1b844df6",
   "metadata": {},
   "outputs": [],
   "source": [
    "class Animal:\n",
    "    def __init__(self):\n",
    "        self.name = 'Penguin'\n",
    "        self.wings = 2\n",
    "    \n",
    "    def speak(self):\n",
    "        print(self.name + ' says Honk!')\n",
    "        "
   ]
  },
  {
   "cell_type": "markdown",
   "id": "71141bd1",
   "metadata": {},
   "source": [
    "To avoid confusion, keep function names starting with a lower case and use proper casing for class objects"
   ]
  },
  {
   "cell_type": "code",
   "execution_count": 26,
   "id": "e782d8d4",
   "metadata": {},
   "outputs": [],
   "source": [
    "my_animal = Animal()\n",
    "another_animal = Animal()"
   ]
  },
  {
   "cell_type": "code",
   "execution_count": 27,
   "id": "325f45d1",
   "metadata": {
    "scrolled": true
   },
   "outputs": [
    {
     "name": "stdout",
     "output_type": "stream",
     "text": [
      "Penguin says Honk!\n"
     ]
    }
   ],
   "source": [
    "my_animal.speak()"
   ]
  },
  {
   "cell_type": "code",
   "execution_count": 28,
   "id": "6ed3513d",
   "metadata": {
    "scrolled": true
   },
   "outputs": [
    {
     "name": "stdout",
     "output_type": "stream",
     "text": [
      "Penguin says Honk!\n"
     ]
    }
   ],
   "source": [
    "another_animal.speak()"
   ]
  },
  {
   "cell_type": "code",
   "execution_count": 29,
   "id": "ce48ac95",
   "metadata": {},
   "outputs": [],
   "source": [
    "class Animal:\n",
    "    def __init__(self, name):\n",
    "        self.name = name\n",
    "        self.wings = 2\n",
    "    \n",
    "    def speak(self):\n",
    "        print(self.name + ' says Honk!')"
   ]
  },
  {
   "cell_type": "code",
   "execution_count": 31,
   "id": "116cc593",
   "metadata": {
    "scrolled": true
   },
   "outputs": [
    {
     "name": "stdout",
     "output_type": "stream",
     "text": [
      "Penguin says Honk!\n",
      "Toucan says Honk!\n"
     ]
    }
   ],
   "source": [
    "my_animal = Animal('Penguin')\n",
    "another_animal = Animal('Toucan')\n",
    "\n",
    "my_animal.speak()\n",
    "another_animal.speak()"
   ]
  },
  {
   "cell_type": "markdown",
   "id": "d1201a78",
   "metadata": {},
   "source": [
    "Although it looks like there is no arguments for the speak function, but the argument 'self' is used from the class definition"
   ]
  }
 ],
 "metadata": {
  "kernelspec": {
   "display_name": "Python 3 (ipykernel)",
   "language": "python",
   "name": "python3"
  },
  "language_info": {
   "codemirror_mode": {
    "name": "ipython",
    "version": 3
   },
   "file_extension": ".py",
   "mimetype": "text/x-python",
   "name": "python",
   "nbconvert_exporter": "python",
   "pygments_lexer": "ipython3",
   "version": "3.11.3"
  }
 },
 "nbformat": 4,
 "nbformat_minor": 5
}
