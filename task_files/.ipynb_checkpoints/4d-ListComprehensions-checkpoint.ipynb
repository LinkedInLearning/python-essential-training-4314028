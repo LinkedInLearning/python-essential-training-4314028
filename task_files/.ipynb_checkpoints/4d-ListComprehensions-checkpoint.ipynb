{
 "cells": [
  {
   "cell_type": "markdown",
   "id": "0ca057ed",
   "metadata": {},
   "source": [
    "# List Comprehensions"
   ]
  },
  {
   "cell_type": "code",
   "execution_count": 4,
   "id": "43fb0b33",
   "metadata": {},
   "outputs": [
    {
     "data": {
      "text/plain": [
       "[2, 4, 6, 8, 10]"
      ]
     },
     "execution_count": 4,
     "metadata": {},
     "output_type": "execute_result"
    }
   ],
   "source": [
    "myList = [1,2,3,4,5]\n",
    "[2*i for i in myList]"
   ]
  },
  {
   "cell_type": "markdown",
   "id": "5ec5055b",
   "metadata": {},
   "source": [
    "## with filters"
   ]
  },
  {
   "cell_type": "code",
   "execution_count": 9,
   "id": "288b1431",
   "metadata": {},
   "outputs": [
    {
     "data": {
      "text/plain": [
       "[0, 10, 20, 30, 40, 50, 60, 70, 80, 90]"
      ]
     },
     "execution_count": 9,
     "metadata": {},
     "output_type": "execute_result"
    }
   ],
   "source": [
    "myList = list(range(100))\n",
    "filteredList = [i for i in myList if i % 10 == 0]\n",
    "filteredList"
   ]
  },
  {
   "cell_type": "code",
   "execution_count": 10,
   "id": "6086cf8b",
   "metadata": {},
   "outputs": [
    {
     "data": {
      "text/plain": [
       "[0,\n",
       " 1,\n",
       " 2,\n",
       " 10,\n",
       " 11,\n",
       " 12,\n",
       " 20,\n",
       " 21,\n",
       " 22,\n",
       " 30,\n",
       " 31,\n",
       " 32,\n",
       " 40,\n",
       " 41,\n",
       " 42,\n",
       " 50,\n",
       " 51,\n",
       " 52,\n",
       " 60,\n",
       " 61,\n",
       " 62,\n",
       " 70,\n",
       " 71,\n",
       " 72,\n",
       " 80,\n",
       " 81,\n",
       " 82,\n",
       " 90,\n",
       " 91,\n",
       " 92]"
      ]
     },
     "execution_count": 10,
     "metadata": {},
     "output_type": "execute_result"
    }
   ],
   "source": [
    "filteredList = [i for i in myList if i % 10 < 3]\n",
    "filteredList"
   ]
  },
  {
   "cell_type": "markdown",
   "id": "608af3f4",
   "metadata": {},
   "source": [
    "## with functions"
   ]
  },
  {
   "cell_type": "code",
   "execution_count": 14,
   "id": "4f11ab86",
   "metadata": {},
   "outputs": [
    {
     "name": "stdout",
     "output_type": "stream",
     "text": [
      "['My', 'name', 'is', 'Dana', 'Turner.', 'I', 'live', 'in', 'Oxford']\n",
      "['My name is Dana Turner', ' I live in Oxford']\n"
     ]
    }
   ],
   "source": [
    "myString = 'My name is Dana Turner. I live in Oxford'\n",
    "print(myString.split())\n",
    "print(myString.split('.'))"
   ]
  },
  {
   "cell_type": "code",
   "execution_count": 16,
   "id": "cd2a0b05",
   "metadata": {
    "scrolled": true
   },
   "outputs": [
    {
     "data": {
      "text/plain": [
       "['my', 'name', 'is', 'dana', 'turner', 'i', 'live', 'in', 'oxford']"
      ]
     },
     "execution_count": 16,
     "metadata": {},
     "output_type": "execute_result"
    }
   ],
   "source": [
    "def cleanWord(word):\n",
    "    return word.replace('.', '').lower()\n",
    "\n",
    "[cleanWord(i) for i in myString.split()]"
   ]
  },
  {
   "cell_type": "code",
   "execution_count": 21,
   "id": "d6301321",
   "metadata": {},
   "outputs": [
    {
     "data": {
      "text/plain": [
       "['my', 'is', 'i', 'in']"
      ]
     },
     "execution_count": 21,
     "metadata": {},
     "output_type": "execute_result"
    }
   ],
   "source": [
    "[cleanWord(i) for i in myString.split() if len(cleanWord(i)) < 3]"
   ]
  },
  {
   "cell_type": "markdown",
   "id": "8b92940e",
   "metadata": {},
   "source": [
    "## Nested"
   ]
  },
  {
   "cell_type": "code",
   "execution_count": 24,
   "id": "2eb4491a",
   "metadata": {},
   "outputs": [
    {
     "data": {
      "text/plain": [
       "[['my', 'name', 'is', 'dana', 'turner'], ['i', 'live', 'in', 'oxford']]"
      ]
     },
     "execution_count": 24,
     "metadata": {},
     "output_type": "execute_result"
    }
   ],
   "source": [
    "[[cleanWord(i) for i in sentence.split()] for sentence in myString.split('.')]"
   ]
  }
 ],
 "metadata": {
  "kernelspec": {
   "display_name": "Python 3 (ipykernel)",
   "language": "python",
   "name": "python3"
  },
  "language_info": {
   "codemirror_mode": {
    "name": "ipython",
    "version": 3
   },
   "file_extension": ".py",
   "mimetype": "text/x-python",
   "name": "python",
   "nbconvert_exporter": "python",
   "pygments_lexer": "ipython3",
   "version": "3.11.3"
  }
 },
 "nbformat": 4,
 "nbformat_minor": 5
}
