{
 "cells": [
  {
   "cell_type": "markdown",
   "id": "000d4d81",
   "metadata": {},
   "source": [
    "# Booleans"
   ]
  },
  {
   "cell_type": "markdown",
   "id": "2b7dc234",
   "metadata": {},
   "source": [
    "## Casting Booleans"
   ]
  },
  {
   "cell_type": "code",
   "execution_count": 1,
   "id": "134f1eca",
   "metadata": {
    "scrolled": true
   },
   "outputs": [
    {
     "data": {
      "text/plain": [
       "True"
      ]
     },
     "execution_count": 1,
     "metadata": {},
     "output_type": "execute_result"
    }
   ],
   "source": [
    "bool(1)"
   ]
  },
  {
   "cell_type": "code",
   "execution_count": 2,
   "id": "a3af7e38",
   "metadata": {
    "scrolled": true
   },
   "outputs": [
    {
     "data": {
      "text/plain": [
       "False"
      ]
     },
     "execution_count": 2,
     "metadata": {},
     "output_type": "execute_result"
    }
   ],
   "source": [
    "bool(0)"
   ]
  },
  {
   "cell_type": "code",
   "execution_count": 3,
   "id": "b95098d3",
   "metadata": {
    "scrolled": true
   },
   "outputs": [
    {
     "data": {
      "text/plain": [
       "True"
      ]
     },
     "execution_count": 3,
     "metadata": {},
     "output_type": "execute_result"
    }
   ],
   "source": [
    "bool(-1)"
   ]
  },
  {
   "cell_type": "markdown",
   "id": "3cfbbd00",
   "metadata": {},
   "source": [
    "For booleans, 0 is false and all other numbers are true (though we usually use 1 to represent true)"
   ]
  },
  {
   "cell_type": "code",
   "execution_count": 4,
   "id": "0ffed0a0",
   "metadata": {},
   "outputs": [
    {
     "data": {
      "text/plain": [
       "True"
      ]
     },
     "execution_count": 4,
     "metadata": {},
     "output_type": "execute_result"
    }
   ],
   "source": [
    "bool('True')"
   ]
  },
  {
   "cell_type": "code",
   "execution_count": 5,
   "id": "fd35dcd6",
   "metadata": {},
   "outputs": [
    {
     "data": {
      "text/plain": [
       "True"
      ]
     },
     "execution_count": 5,
     "metadata": {},
     "output_type": "execute_result"
    }
   ],
   "source": [
    "bool('False')"
   ]
  },
  {
   "cell_type": "code",
   "execution_count": 6,
   "id": "1d68c9b0",
   "metadata": {
    "scrolled": true
   },
   "outputs": [
    {
     "data": {
      "text/plain": [
       "False"
      ]
     },
     "execution_count": 6,
     "metadata": {},
     "output_type": "execute_result"
    }
   ],
   "source": [
    "bool('')"
   ]
  },
  {
   "cell_type": "code",
   "execution_count": 7,
   "id": "7ab6d774",
   "metadata": {},
   "outputs": [
    {
     "data": {
      "text/plain": [
       "True"
      ]
     },
     "execution_count": 7,
     "metadata": {},
     "output_type": "execute_result"
    }
   ],
   "source": [
    "bool(' ')"
   ]
  },
  {
   "cell_type": "markdown",
   "id": "6a190f23",
   "metadata": {},
   "source": [
    "For string objects, emptry strings are false and non-empty strings are true"
   ]
  },
  {
   "cell_type": "code",
   "execution_count": 10,
   "id": "b6e7a87e",
   "metadata": {},
   "outputs": [
    {
     "data": {
      "text/plain": [
       "True"
      ]
     },
     "execution_count": 10,
     "metadata": {},
     "output_type": "execute_result"
    }
   ],
   "source": [
    "bool([1,3])"
   ]
  },
  {
   "cell_type": "code",
   "execution_count": 8,
   "id": "e13d6669",
   "metadata": {},
   "outputs": [
    {
     "data": {
      "text/plain": [
       "False"
      ]
     },
     "execution_count": 8,
     "metadata": {},
     "output_type": "execute_result"
    }
   ],
   "source": [
    "bool([])"
   ]
  },
  {
   "cell_type": "code",
   "execution_count": 9,
   "id": "afdcb88e",
   "metadata": {},
   "outputs": [
    {
     "data": {
      "text/plain": [
       "False"
      ]
     },
     "execution_count": 9,
     "metadata": {},
     "output_type": "execute_result"
    }
   ],
   "source": [
    "bool({})"
   ]
  },
  {
   "cell_type": "markdown",
   "id": "71a375f6",
   "metadata": {},
   "source": [
    "Empty lists and dictionaries are also false, while any content makes them true"
   ]
  },
  {
   "cell_type": "code",
   "execution_count": 11,
   "id": "426fc68d",
   "metadata": {
    "scrolled": true
   },
   "outputs": [
    {
     "data": {
      "text/plain": [
       "False"
      ]
     },
     "execution_count": 11,
     "metadata": {},
     "output_type": "execute_result"
    }
   ],
   "source": [
    "bool(None)"
   ]
  },
  {
   "cell_type": "code",
   "execution_count": 12,
   "id": "d39723c6",
   "metadata": {},
   "outputs": [
    {
     "name": "stdout",
     "output_type": "stream",
     "text": [
      "myList has some values in it!\n"
     ]
    }
   ],
   "source": [
    "myList = [1,2]\n",
    "if myList:\n",
    "    print('myList has some values in it!')\n",
    "else:\n",
    "    print('myList is empty!')"
   ]
  },
  {
   "cell_type": "code",
   "execution_count": 13,
   "id": "e2646974",
   "metadata": {},
   "outputs": [
    {
     "name": "stdout",
     "output_type": "stream",
     "text": [
      " a and b are equal!\n"
     ]
    }
   ],
   "source": [
    "a = 5\n",
    "b = 5\n",
    "if a - b:\n",
    "    print('a and b are not equal!')\n",
    "else:\n",
    "    print(' a and b are equal!')"
   ]
  },
  {
   "cell_type": "code",
   "execution_count": 14,
   "id": "24b751be",
   "metadata": {},
   "outputs": [
    {
     "data": {
      "text/plain": [
       "True"
      ]
     },
     "execution_count": 14,
     "metadata": {},
     "output_type": "execute_result"
    }
   ],
   "source": [
    "a == b"
   ]
  },
  {
   "cell_type": "markdown",
   "id": "ad2ab6fb",
   "metadata": {},
   "source": [
    "## Boolean Logic"
   ]
  },
  {
   "cell_type": "code",
   "execution_count": 19,
   "id": "ec199010",
   "metadata": {},
   "outputs": [
    {
     "name": "stdout",
     "output_type": "stream",
     "text": [
      "Go for a walk!\n"
     ]
    }
   ],
   "source": [
    "weatherIsNice = True\n",
    "haveUmbrella = False\n",
    "\n",
    "if not (weatherIsNice or haveUmbrella):\n",
    "    print('Stay inside!')\n",
    "else:\n",
    "    print('Go for a walk!')"
   ]
  },
  {
   "cell_type": "code",
   "execution_count": 21,
   "id": "6fbc8b41",
   "metadata": {},
   "outputs": [
    {
     "name": "stdout",
     "output_type": "stream",
     "text": [
      "Go for a walk!\n"
     ]
    }
   ],
   "source": [
    "weatherIsNice = True\n",
    "haveUmbrella = False\n",
    "\n",
    "if not weatherIsNice and not haveUmbrella:\n",
    "    print('Stay inside!')\n",
    "else:\n",
    "    print('Go for a walk!')"
   ]
  },
  {
   "cell_type": "code",
   "execution_count": 22,
   "id": "61f10ca1",
   "metadata": {},
   "outputs": [
    {
     "name": "stdout",
     "output_type": "stream",
     "text": [
      "Go for a walk!\n"
     ]
    }
   ],
   "source": [
    "weatherIsNice = True\n",
    "haveUmbrella = False\n",
    "\n",
    "if weatherIsNice or haveUmbrella:\n",
    "    print('Go for a walk!')\n",
    "else:\n",
    "    print('Stay inside!')"
   ]
  },
  {
   "cell_type": "markdown",
   "id": "f75c9db9",
   "metadata": {},
   "source": [
    "The above are all equivalent! We can also add () for readability."
   ]
  }
 ],
 "metadata": {
  "kernelspec": {
   "display_name": "Python 3 (ipykernel)",
   "language": "python",
   "name": "python3"
  },
  "language_info": {
   "codemirror_mode": {
    "name": "ipython",
    "version": 3
   },
   "file_extension": ".py",
   "mimetype": "text/x-python",
   "name": "python",
   "nbconvert_exporter": "python",
   "pygments_lexer": "ipython3",
   "version": "3.11.3"
  }
 },
 "nbformat": 4,
 "nbformat_minor": 5
}
