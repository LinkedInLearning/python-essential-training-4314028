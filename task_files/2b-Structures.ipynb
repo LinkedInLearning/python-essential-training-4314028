{
 "cells": [
  {
   "cell_type": "markdown",
   "id": "765f79ab",
   "metadata": {},
   "source": [
    "# Data Structures"
   ]
  },
  {
   "cell_type": "markdown",
   "id": "e60d40fe",
   "metadata": {},
   "source": [
    "# Lists"
   ]
  },
  {
   "cell_type": "code",
   "execution_count": 7,
   "id": "9cf5fdf1",
   "metadata": {},
   "outputs": [],
   "source": [
    "empty_list = []"
   ]
  },
  {
   "cell_type": "code",
   "execution_count": 8,
   "id": "aad2d84b",
   "metadata": {},
   "outputs": [],
   "source": [
    "int_list = [1,2,3,4]"
   ]
  },
  {
   "cell_type": "code",
   "execution_count": 9,
   "id": "960bdb39",
   "metadata": {
    "scrolled": true
   },
   "outputs": [
    {
     "name": "stdout",
     "output_type": "stream",
     "text": [
      "[1, 2, 3, 4]\n"
     ]
    }
   ],
   "source": [
    "print(int_list)"
   ]
  },
  {
   "cell_type": "code",
   "execution_count": 10,
   "id": "7431b701",
   "metadata": {},
   "outputs": [],
   "source": [
    "str_list = ['list', 'of', 'strings']"
   ]
  },
  {
   "cell_type": "code",
   "execution_count": 11,
   "id": "2971c4c5",
   "metadata": {
    "scrolled": true
   },
   "outputs": [
    {
     "name": "stdout",
     "output_type": "stream",
     "text": [
      "['list', 'of', 'strings']\n"
     ]
    }
   ],
   "source": [
    "print(str_list)"
   ]
  },
  {
   "cell_type": "code",
   "execution_count": 16,
   "id": "b8dbbe4f",
   "metadata": {},
   "outputs": [],
   "source": [
    "mixed_list = [17, 'March', 17 == 3, int_list, str_list, [3,2,1]]"
   ]
  },
  {
   "cell_type": "code",
   "execution_count": 17,
   "id": "6d579ac1",
   "metadata": {},
   "outputs": [
    {
     "name": "stdout",
     "output_type": "stream",
     "text": [
      "[17, 'March', False, [1, 2, 3, 4], ['list', 'of', 'strings'], [3, 2, 1]]\n"
     ]
    }
   ],
   "source": [
    "print(mixed_list)"
   ]
  },
  {
   "cell_type": "markdown",
   "id": "e1ba8f45",
   "metadata": {},
   "source": [
    "# Sets"
   ]
  },
  {
   "cell_type": "markdown",
   "id": "57473023",
   "metadata": {},
   "source": [
    "Similar to lists, but all values must be unique"
   ]
  },
  {
   "cell_type": "code",
   "execution_count": 18,
   "id": "11ba46e3",
   "metadata": {},
   "outputs": [],
   "source": [
    "ex_set = {1,2,3}"
   ]
  },
  {
   "cell_type": "code",
   "execution_count": 19,
   "id": "66191b1c",
   "metadata": {
    "scrolled": true
   },
   "outputs": [
    {
     "name": "stdout",
     "output_type": "stream",
     "text": [
      "{1, 2, 3}\n"
     ]
    }
   ],
   "source": [
    "print(ex_set)"
   ]
  },
  {
   "cell_type": "code",
   "execution_count": 20,
   "id": "5263c92f",
   "metadata": {},
   "outputs": [
    {
     "data": {
      "text/plain": [
       "set"
      ]
     },
     "execution_count": 20,
     "metadata": {},
     "output_type": "execute_result"
    }
   ],
   "source": [
    "type(ex_set)"
   ]
  },
  {
   "cell_type": "code",
   "execution_count": 21,
   "id": "a9390d95",
   "metadata": {
    "scrolled": true
   },
   "outputs": [
    {
     "data": {
      "text/plain": [
       "3"
      ]
     },
     "execution_count": 21,
     "metadata": {},
     "output_type": "execute_result"
    }
   ],
   "source": [
    "len(ex_set)"
   ]
  },
  {
   "cell_type": "markdown",
   "id": "e7aa47dd",
   "metadata": {},
   "source": [
    "If you add duplicates to a set, only uniques will be included"
   ]
  },
  {
   "cell_type": "code",
   "execution_count": 22,
   "id": "5fc1e898",
   "metadata": {},
   "outputs": [],
   "source": [
    "ex_set_2 = {1,3,5,7,3,3,5}"
   ]
  },
  {
   "cell_type": "code",
   "execution_count": 24,
   "id": "f3d1e546",
   "metadata": {},
   "outputs": [
    {
     "name": "stdout",
     "output_type": "stream",
     "text": [
      "{1, 3, 5, 7}\n"
     ]
    }
   ],
   "source": [
    "print(ex_set_2)"
   ]
  },
  {
   "cell_type": "code",
   "execution_count": 23,
   "id": "0c1b2413",
   "metadata": {},
   "outputs": [
    {
     "data": {
      "text/plain": [
       "4"
      ]
     },
     "execution_count": 23,
     "metadata": {},
     "output_type": "execute_result"
    }
   ],
   "source": [
    "len(ex_set_2)"
   ]
  },
  {
   "cell_type": "markdown",
   "id": "1ddc1ad9",
   "metadata": {},
   "source": [
    "The order of elements in a list is important ([1,2] == [2,1] is FALSE), but not in a set ({1,2} == {2,1} is TRUE)"
   ]
  },
  {
   "cell_type": "code",
   "execution_count": 25,
   "id": "ab4e66a8",
   "metadata": {},
   "outputs": [],
   "source": [
    "list_1 = [1,2]"
   ]
  },
  {
   "cell_type": "code",
   "execution_count": 26,
   "id": "bbb58264",
   "metadata": {},
   "outputs": [],
   "source": [
    "list_2 = [2,1]"
   ]
  },
  {
   "cell_type": "code",
   "execution_count": 27,
   "id": "e897176e",
   "metadata": {},
   "outputs": [
    {
     "data": {
      "text/plain": [
       "False"
      ]
     },
     "execution_count": 27,
     "metadata": {},
     "output_type": "execute_result"
    }
   ],
   "source": [
    "list_1 == list_2"
   ]
  },
  {
   "cell_type": "code",
   "execution_count": 28,
   "id": "0ced93de",
   "metadata": {},
   "outputs": [],
   "source": [
    "set_1 = {1,2}"
   ]
  },
  {
   "cell_type": "code",
   "execution_count": 29,
   "id": "66e0b9c3",
   "metadata": {},
   "outputs": [],
   "source": [
    "set_2 = {2,1}"
   ]
  },
  {
   "cell_type": "code",
   "execution_count": 30,
   "id": "cc057c56",
   "metadata": {},
   "outputs": [
    {
     "data": {
      "text/plain": [
       "True"
      ]
     },
     "execution_count": 30,
     "metadata": {},
     "output_type": "execute_result"
    }
   ],
   "source": [
    "set_1 == set_2"
   ]
  },
  {
   "cell_type": "code",
   "execution_count": 31,
   "id": "38a24e10",
   "metadata": {},
   "outputs": [],
   "source": [
    "set_3 = {2,1,2,1,1}"
   ]
  },
  {
   "cell_type": "code",
   "execution_count": 32,
   "id": "32062a46",
   "metadata": {},
   "outputs": [
    {
     "data": {
      "text/plain": [
       "True"
      ]
     },
     "execution_count": 32,
     "metadata": {},
     "output_type": "execute_result"
    }
   ],
   "source": [
    "set_1 == set_3"
   ]
  },
  {
   "cell_type": "markdown",
   "id": "25e11dc8",
   "metadata": {},
   "source": [
    "# Tuples"
   ]
  },
  {
   "cell_type": "markdown",
   "id": "14962c44",
   "metadata": {},
   "source": [
    "These work very similar to lists, but these cannot be appended or added to"
   ]
  },
  {
   "cell_type": "code",
   "execution_count": 40,
   "id": "0094fd21",
   "metadata": {},
   "outputs": [],
   "source": [
    "tuple_1 = (1,2,3)"
   ]
  },
  {
   "cell_type": "code",
   "execution_count": 34,
   "id": "e8a54bbf",
   "metadata": {
    "scrolled": false
   },
   "outputs": [
    {
     "data": {
      "text/plain": [
       "3"
      ]
     },
     "execution_count": 34,
     "metadata": {},
     "output_type": "execute_result"
    }
   ],
   "source": [
    "len(tuple_1)"
   ]
  },
  {
   "cell_type": "markdown",
   "id": "51748284",
   "metadata": {},
   "source": [
    "order also matters with tuples"
   ]
  },
  {
   "cell_type": "code",
   "execution_count": 35,
   "id": "730303c4",
   "metadata": {},
   "outputs": [
    {
     "data": {
      "text/plain": [
       "False"
      ]
     },
     "execution_count": 35,
     "metadata": {},
     "output_type": "execute_result"
    }
   ],
   "source": [
    "(1,2) == (2,1)"
   ]
  },
  {
   "cell_type": "code",
   "execution_count": 36,
   "id": "6f0bd714",
   "metadata": {},
   "outputs": [
    {
     "name": "stdout",
     "output_type": "stream",
     "text": [
      "[1, 2]\n"
     ]
    }
   ],
   "source": [
    "print(list_1)"
   ]
  },
  {
   "cell_type": "code",
   "execution_count": 37,
   "id": "320898ae",
   "metadata": {},
   "outputs": [],
   "source": [
    "list_1.append(3)"
   ]
  },
  {
   "cell_type": "code",
   "execution_count": 38,
   "id": "9bca9a61",
   "metadata": {
    "scrolled": true
   },
   "outputs": [
    {
     "name": "stdout",
     "output_type": "stream",
     "text": [
      "[1, 2, 3]\n"
     ]
    }
   ],
   "source": [
    "print(list_1)"
   ]
  },
  {
   "cell_type": "code",
   "execution_count": 41,
   "id": "f4f7feac",
   "metadata": {
    "scrolled": false
   },
   "outputs": [
    {
     "ename": "AttributeError",
     "evalue": "'tuple' object has no attribute 'append'",
     "output_type": "error",
     "traceback": [
      "\u001b[1;31m---------------------------------------------------------------------------\u001b[0m",
      "\u001b[1;31mAttributeError\u001b[0m                            Traceback (most recent call last)",
      "Cell \u001b[1;32mIn[41], line 1\u001b[0m\n\u001b[1;32m----> 1\u001b[0m \u001b[43mtuple_1\u001b[49m\u001b[38;5;241;43m.\u001b[39;49m\u001b[43mappend\u001b[49m(\u001b[38;5;241m4\u001b[39m)\n",
      "\u001b[1;31mAttributeError\u001b[0m: 'tuple' object has no attribute 'append'"
     ]
    }
   ],
   "source": [
    "tuple_1.append(4)"
   ]
  },
  {
   "cell_type": "markdown",
   "id": "b4ea3cf2",
   "metadata": {},
   "source": [
    "The code above produces an error. Tuples cannot be changed once defined."
   ]
  },
  {
   "cell_type": "markdown",
   "id": "233b987d",
   "metadata": {},
   "source": [
    "Python will not allocate extra memory to tuples and will use the exact memory required, as these can't be changed. This leads to more efficient memory storage than lists, which are assigned extra room in storage to accomodate potential changes."
   ]
  },
  {
   "cell_type": "markdown",
   "id": "4c525009",
   "metadata": {},
   "source": [
    "# Dictionaries"
   ]
  },
  {
   "cell_type": "code",
   "execution_count": 42,
   "id": "19703178",
   "metadata": {},
   "outputs": [],
   "source": [
    "dict_1 = {\n",
    "    'cherries': 'a red fruit',\n",
    "    'penguin': 'Dana''s favourite animal',\n",
    "}"
   ]
  },
  {
   "cell_type": "code",
   "execution_count": 43,
   "id": "b0a69087",
   "metadata": {
    "scrolled": true
   },
   "outputs": [
    {
     "data": {
      "text/plain": [
       "'a red fruit'"
      ]
     },
     "execution_count": 43,
     "metadata": {},
     "output_type": "execute_result"
    }
   ],
   "source": [
    "dict_1['cherries']"
   ]
  },
  {
   "cell_type": "markdown",
   "id": "98d004d1",
   "metadata": {},
   "source": [
    "The defined words must be unique in a dictionary object"
   ]
  },
  {
   "cell_type": "code",
   "execution_count": 47,
   "id": "46ac881f",
   "metadata": {},
   "outputs": [],
   "source": [
    "dict_2 = {\n",
    "    'cherries': 'a red fruit',\n",
    "    'penguin': 'Dana''s favourite animal',\n",
    "    'cherries': 'you can also get black cherries!'\n",
    "}"
   ]
  },
  {
   "cell_type": "code",
   "execution_count": 48,
   "id": "00d005da",
   "metadata": {
    "scrolled": true
   },
   "outputs": [
    {
     "data": {
      "text/plain": [
       "'you can also get black cherries!'"
      ]
     },
     "execution_count": 48,
     "metadata": {},
     "output_type": "execute_result"
    }
   ],
   "source": [
    "dict_2['cherries']"
   ]
  },
  {
   "cell_type": "markdown",
   "id": "e0cb5592",
   "metadata": {},
   "source": [
    "If a variable is defined multiple times, the last definition will be used."
   ]
  }
 ],
 "metadata": {
  "kernelspec": {
   "display_name": "Python 3 (ipykernel)",
   "language": "python",
   "name": "python3"
  },
  "language_info": {
   "codemirror_mode": {
    "name": "ipython",
    "version": 3
   },
   "file_extension": ".py",
   "mimetype": "text/x-python",
   "name": "python",
   "nbconvert_exporter": "python",
   "pygments_lexer": "ipython3",
   "version": "3.11.3"
  }
 },
 "nbformat": 4,
 "nbformat_minor": 5
}
