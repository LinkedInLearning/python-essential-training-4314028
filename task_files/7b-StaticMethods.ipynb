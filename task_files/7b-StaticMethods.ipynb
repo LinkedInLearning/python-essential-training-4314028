{
 "cells": [
  {
   "cell_type": "markdown",
   "id": "2b71d1dc",
   "metadata": {},
   "source": [
    "# Static and Instance methods"
   ]
  },
  {
   "cell_type": "code",
   "execution_count": 6,
   "id": "5945b2a8",
   "metadata": {},
   "outputs": [
    {
     "name": "stdout",
     "output_type": "stream",
     "text": [
      "{'a', 'im', 'to', 'add', 'sentence', 'is', 'here', 'i', 'want', 'hi', 'another', 'dana'}\n"
     ]
    }
   ],
   "source": [
    "class WordSet:\n",
    "    replacePuncs = ['!', '.', ',', '\\'']\n",
    "    \n",
    "    def __init__(self):\n",
    "        self.words = set()\n",
    "    \n",
    "    def addText(self, text):\n",
    "        text = WordSet.cleanText(text)\n",
    "        for word in text.split():\n",
    "            self.words.add(word)\n",
    "    \n",
    "    def cleanText(text):\n",
    "        # chaining functions\n",
    "        for punc in WordSet.replacePuncs:\n",
    "            text = text.replace(punc, '')\n",
    "        return text.lower()\n",
    "\n",
    "wordSet = WordSet()\n",
    "\n",
    "wordSet.addText('Hi, I\\'m Dana! Here is a sentence I want to add!')\n",
    "wordSet.addText('Here is another sentence I want to add.')\n",
    "\n",
    "print(wordSet.words)"
   ]
  },
  {
   "cell_type": "markdown",
   "id": "6d41be98",
   "metadata": {},
   "source": [
    "## Decorators"
   ]
  },
  {
   "cell_type": "code",
   "execution_count": 7,
   "id": "c9981b02",
   "metadata": {},
   "outputs": [
    {
     "name": "stdout",
     "output_type": "stream",
     "text": [
      "{'a', 'im', 'to', 'add', 'sentence', 'is', 'here', 'i', 'want', 'hi', 'another', 'dana'}\n"
     ]
    }
   ],
   "source": [
    "class WordSet:\n",
    "    replacePuncs = ['!', '.', ',', '\\'']\n",
    "    \n",
    "    def __init__(self):\n",
    "        self.words = set()\n",
    "    \n",
    "    def addText(self, text):\n",
    "        text = self.cleanText(text)\n",
    "        for word in text.split():\n",
    "            self.words.add(word)\n",
    "    \n",
    "    @staticmethod\n",
    "    def cleanText(text):\n",
    "        # chaining functions\n",
    "        for punc in WordSet.replacePuncs:\n",
    "            text = text.replace(punc, '')\n",
    "        return text.lower()\n",
    "\n",
    "wordSet = WordSet()\n",
    "\n",
    "wordSet.addText('Hi, I\\'m Dana! Here is a sentence I want to add!')\n",
    "wordSet.addText('Here is another sentence I want to add.')\n",
    "\n",
    "print(wordSet.words)"
   ]
  }
 ],
 "metadata": {
  "kernelspec": {
   "display_name": "Python 3 (ipykernel)",
   "language": "python",
   "name": "python3"
  },
  "language_info": {
   "codemirror_mode": {
    "name": "ipython",
    "version": 3
   },
   "file_extension": ".py",
   "mimetype": "text/x-python",
   "name": "python",
   "nbconvert_exporter": "python",
   "pygments_lexer": "ipython3",
   "version": "3.11.3"
  }
 },
 "nbformat": 4,
 "nbformat_minor": 5
}
