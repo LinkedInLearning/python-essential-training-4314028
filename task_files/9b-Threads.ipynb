{
 "cells": [
  {
   "cell_type": "code",
   "execution_count": 1,
   "id": "d025709d",
   "metadata": {},
   "outputs": [],
   "source": [
    "import threading\n",
    "import time"
   ]
  },
  {
   "cell_type": "markdown",
   "id": "978b1a44",
   "metadata": {},
   "source": [
    "# Threads"
   ]
  },
  {
   "cell_type": "code",
   "execution_count": 3,
   "id": "da5da381",
   "metadata": {},
   "outputs": [
    {
     "data": {
      "text/plain": [
       "[0, 1, 4, 9, 16]"
      ]
     },
     "execution_count": 3,
     "metadata": {},
     "output_type": "execute_result"
    }
   ],
   "source": [
    "def longSquare(num):\n",
    "    time.sleep(1)\n",
    "    return num**2\n",
    "\n",
    "[longSquare(n) for n in range(0, 5)]"
   ]
  },
  {
   "cell_type": "code",
   "execution_count": 4,
   "id": "d72d77b3",
   "metadata": {},
   "outputs": [],
   "source": [
    "t1 = threading.Thread(target=longSquare, args=(1,))\n",
    "t2 = threading.Thread(target=longSquare, args=(2,))\n",
    "\n",
    "t1.start()\n",
    "t2.start()\n",
    "\n",
    "t1.join()\n",
    "t2.join()"
   ]
  },
  {
   "cell_type": "code",
   "execution_count": 6,
   "id": "8b0bff3f",
   "metadata": {},
   "outputs": [
    {
     "name": "stdout",
     "output_type": "stream",
     "text": [
      "14\n",
      "\n",
      "{}\n"
     ]
    }
   ],
   "source": [
    "def longSquare(num, results):\n",
    "    time.sleep(1)\n",
    "    results[num] = num**2\n",
    "\n",
    "results = {}\n",
    "t1 = threading.Thread(target=longSquare, args=(1,results))\n",
    "t2 = threading.Thread(target=longSquare, args=(2,results))\n",
    "\n",
    "t1.start()\n",
    "t2.start()\n",
    "\n",
    "t1.join()\n",
    "t2.join()\n",
    "\n",
    "print(results)"
   ]
  },
  {
   "cell_type": "code",
   "execution_count": 19,
   "id": "53f94d78",
   "metadata": {},
   "outputs": [
    {
     "name": "stdout",
     "output_type": "stream",
     "text": [
      "{2: 4, 1: 1, 0: 0, 3: 9, 4: 16, 6: 36, 5: 25, 7: 49, 8: 64, 9: 81, 10: 100, 11: 121, 14: 196, 13: 169, 12: 144, 15: 225, 17: 289, 16: 256, 18: 324, 19: 361, 20: 400, 21: 441, 23: 529, 22: 484, 24: 576, 26: 676, 25: 625, 27: 729, 28: 784, 29: 841, 30: 900, 31: 961, 32: 1024, 34: 1156, 33: 1089, 35: 1225, 36: 1296, 37: 1369, 38: 1444, 40: 1600, 39: 1521, 42: 1764, 41: 1681, 43: 1849, 46: 2116, 45: 2025, 44: 1936, 48: 2304, 47: 2209, 50: 2500, 52: 2704, 51: 2601, 49: 2401, 54: 2916, 55: 3025, 53: 2809, 59: 3481, 58: 3364, 60: 3600, 56: 3136, 57: 3249, 61: 3721, 63: 3969, 62: 3844, 66: 4356, 65: 4225, 64: 4096, 69: 4761, 70: 4900, 68: 4624, 67: 4489, 74: 5476, 75: 5625, 72: 5184, 71: 5041, 76: 5776, 81: 6561, 73: 5329, 80: 6400, 79: 6241, 77: 5929, 78: 6084, 84: 7056, 85: 7225, 88: 7744, 82: 6724, 83: 6889, 87: 7569, 86: 7396, 91: 8281, 92: 8464, 90: 8100, 89: 7921, 95: 9025, 94: 8836, 93: 8649, 96: 9216, 99: 9801, 98: 9604, 97: 9409}\n"
     ]
    }
   ],
   "source": [
    "def longSquare(num, results):\n",
    "    time.sleep(1)\n",
    "    results[num] = num**2\n",
    "    \n",
    "threads = [threading.Thread(target=longSquare, args=(n, results)) for n in range(0, 100)]\n",
    "[t.start() for t in threads]\n",
    "[t.join() for t in threads]\n",
    "\n",
    "print(results)"
   ]
  }
 ],
 "metadata": {
  "kernelspec": {
   "display_name": "Python 3 (ipykernel)",
   "language": "python",
   "name": "python3"
  },
  "language_info": {
   "codemirror_mode": {
    "name": "ipython",
    "version": 3
   },
   "file_extension": ".py",
   "mimetype": "text/x-python",
   "name": "python",
   "nbconvert_exporter": "python",
   "pygments_lexer": "ipython3",
   "version": "3.11.3"
  }
 },
 "nbformat": 4,
 "nbformat_minor": 5
}
