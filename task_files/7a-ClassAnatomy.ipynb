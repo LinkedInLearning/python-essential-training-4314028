{
 "cells": [
  {
   "cell_type": "markdown",
   "id": "c09badcd",
   "metadata": {},
   "source": [
    "# Class\n"
   ]
  },
  {
   "cell_type": "markdown",
   "id": "e2e2eee2",
   "metadata": {},
   "source": [
    "## Instance Attributes"
   ]
  },
  {
   "cell_type": "code",
   "execution_count": 3,
   "id": "5255eadd",
   "metadata": {},
   "outputs": [
    {
     "name": "stdout",
     "output_type": "stream",
     "text": [
      "Rover\n",
      "4\n"
     ]
    }
   ],
   "source": [
    "class Dog:\n",
    "    def __init__(self, name):\n",
    "        self.name = name\n",
    "        self.legs = 4\n",
    "        \n",
    "    def speak(self):\n",
    "        print(self.name + ' says: Bark!')\n",
    "        \n",
    "myDog = Dog('Rover')\n",
    "print(myDog.name)\n",
    "print(myDog.legs)"
   ]
  },
  {
   "cell_type": "markdown",
   "id": "7e4eff4e",
   "metadata": {},
   "source": [
    "## Static Attributes"
   ]
  },
  {
   "cell_type": "code",
   "execution_count": 10,
   "id": "58d161fc",
   "metadata": {},
   "outputs": [
    {
     "name": "stdout",
     "output_type": "stream",
     "text": [
      "Rover\n",
      "4\n"
     ]
    },
    {
     "data": {
      "text/plain": [
       "4"
      ]
     },
     "execution_count": 10,
     "metadata": {},
     "output_type": "execute_result"
    }
   ],
   "source": [
    "class Dog:\n",
    "    _legs = 4\n",
    "    def __init__(self, name):\n",
    "        self.name = name\n",
    "        \n",
    "    def getLegs(self):\n",
    "        return self._legs\n",
    "        \n",
    "    def speak(self):\n",
    "        print(self.name + ' says: Bark!')\n",
    "        \n",
    "myDog = Dog('Rover')\n",
    "print(myDog.name)\n",
    "print(myDog.getLegs())"
   ]
  },
  {
   "cell_type": "code",
   "execution_count": 11,
   "id": "6a235a24",
   "metadata": {},
   "outputs": [
    {
     "name": "stdout",
     "output_type": "stream",
     "text": [
      "Rover\n",
      "3\n"
     ]
    }
   ],
   "source": [
    "myDog = Dog('Rover')\n",
    "myDog._legs = 3\n",
    "print(myDog.name)\n",
    "print(myDog.getLegs())"
   ]
  },
  {
   "cell_type": "code",
   "execution_count": null,
   "id": "849dfdf4",
   "metadata": {},
   "outputs": [],
   "source": []
  }
 ],
 "metadata": {
  "kernelspec": {
   "display_name": "Python 3 (ipykernel)",
   "language": "python",
   "name": "python3"
  },
  "language_info": {
   "codemirror_mode": {
    "name": "ipython",
    "version": 3
   },
   "file_extension": ".py",
   "mimetype": "text/x-python",
   "name": "python",
   "nbconvert_exporter": "python",
   "pygments_lexer": "ipython3",
   "version": "3.11.3"
  }
 },
 "nbformat": 4,
 "nbformat_minor": 5
}
