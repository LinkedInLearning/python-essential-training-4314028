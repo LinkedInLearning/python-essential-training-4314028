{
 "cells": [
  {
   "cell_type": "markdown",
   "id": "3b522be6",
   "metadata": {},
   "source": [
    "# Factorial Challenge"
   ]
  },
  {
   "cell_type": "markdown",
   "id": "a2abd1e6",
   "metadata": {},
   "source": [
    "Task: write a function that returns the factorial of an inputted number"
   ]
  },
  {
   "cell_type": "code",
   "execution_count": 71,
   "id": "c40cf796",
   "metadata": {},
   "outputs": [],
   "source": [
    "def factorial(num):\n",
    "    if not type(num) == int or num < 0:\n",
    "        return None    \n",
    "    if num == 0:\n",
    "        return 1\n",
    "    else:\n",
    "        num_list = [num]\n",
    "        while num > 1:\n",
    "            num = num - 1\n",
    "            num_list.append(num)\n",
    "        \n",
    "        current_num = 1\n",
    "        for multiplication in num_list:\n",
    "            current_num = current_num * multiplication\n",
    "    \n",
    "        return current_num"
   ]
  },
  {
   "cell_type": "code",
   "execution_count": 88,
   "id": "b866bfed",
   "metadata": {
    "scrolled": true
   },
   "outputs": [
    {
     "data": {
      "text/plain": [
       "6"
      ]
     },
     "execution_count": 88,
     "metadata": {},
     "output_type": "execute_result"
    }
   ],
   "source": [
    "factorial(3)"
   ]
  },
  {
   "cell_type": "code",
   "execution_count": 89,
   "id": "6db681a5",
   "metadata": {},
   "outputs": [
    {
     "data": {
      "text/plain": [
       "720"
      ]
     },
     "execution_count": 89,
     "metadata": {},
     "output_type": "execute_result"
    }
   ],
   "source": [
    "factorial(6)"
   ]
  },
  {
   "cell_type": "code",
   "execution_count": 90,
   "id": "dc888b54",
   "metadata": {},
   "outputs": [
    {
     "data": {
      "text/plain": [
       "1"
      ]
     },
     "execution_count": 90,
     "metadata": {},
     "output_type": "execute_result"
    }
   ],
   "source": [
    "factorial(0)"
   ]
  },
  {
   "cell_type": "code",
   "execution_count": 91,
   "id": "c8fe1074",
   "metadata": {},
   "outputs": [],
   "source": [
    "factorial(-2)"
   ]
  },
  {
   "cell_type": "code",
   "execution_count": 76,
   "id": "bc8888f2",
   "metadata": {},
   "outputs": [],
   "source": [
    "factorial('spam spam ')"
   ]
  },
  {
   "cell_type": "markdown",
   "id": "608dfe36",
   "metadata": {},
   "source": [
    "Recommended solution"
   ]
  },
  {
   "cell_type": "code",
   "execution_count": 87,
   "id": "8ad7ec8a",
   "metadata": {},
   "outputs": [],
   "source": [
    "def factorial(num):\n",
    "    if type(num) is not int:\n",
    "        return None\n",
    "    if num < 0:\n",
    "        return None\n",
    "    if num == 0:\n",
    "        return 1\n",
    "\n",
    "    i = 0\n",
    "    f = 1\n",
    "    while i < num:\n",
    "        i = i + 1\n",
    "        f = f * i\n",
    "    \n",
    "    return f"
   ]
  }
 ],
 "metadata": {
  "kernelspec": {
   "display_name": "Python 3 (ipykernel)",
   "language": "python",
   "name": "python3"
  },
  "language_info": {
   "codemirror_mode": {
    "name": "ipython",
    "version": 3
   },
   "file_extension": ".py",
   "mimetype": "text/x-python",
   "name": "python",
   "nbconvert_exporter": "python",
   "pygments_lexer": "ipython3",
   "version": "3.11.3"
  }
 },
 "nbformat": 4,
 "nbformat_minor": 5
}
