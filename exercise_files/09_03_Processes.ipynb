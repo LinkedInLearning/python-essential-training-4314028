{
 "cells": [
  {
   "cell_type": "code",
   "execution_count": 1,
   "id": "34fcf0b8",
   "metadata": {},
   "outputs": [],
   "source": [
    "from multiprocess import Process\n",
    "import time\n",
    "import threading"
   ]
  },
  {
   "cell_type": "markdown",
   "id": "b9bc0c6f",
   "metadata": {},
   "source": [
    "## Processes"
   ]
  },
  {
   "cell_type": "code",
   "execution_count": 3,
   "id": "37273e14",
   "metadata": {},
   "outputs": [
    {
     "data": {
      "text/plain": [
       "[None, None, None, None, None, None, None, None, None, None]"
      ]
     },
     "execution_count": 3,
     "metadata": {},
     "output_type": "execute_result"
    }
   ],
   "source": [
    "def longSquare(num, results):\n",
    "    time.sleep(1)\n",
    "    print(num**2)\n",
    "    print('Finished computing!')\n",
    "\n",
    "results = {}\n",
    "processes = [Process(target=longSquare, args=(n,results)) for n in range(0, 10)]\n",
    "[p.start() for p in processes]\n",
    "[p.join() for p in processes]\n",
    "\n",
    "\n"
   ]
  },
  {
   "cell_type": "code",
   "execution_count": 9,
   "id": "ee636997",
   "metadata": {},
   "outputs": [
    {
     "name": "stdout",
     "output_type": "stream",
     "text": [
      "9163625496481\n",
      "Finished computing!\n",
      "14\n",
      "\n",
      "Finished computing!\n",
      "\n",
      "Finished computing!\n",
      "Finished computing!\n",
      "\n",
      "\n",
      "\n",
      "Finished computing!\n",
      "Finished computing!\n",
      "0Finished computing!\n",
      "Finished computing!\n",
      "\n",
      "\n",
      "Finished computing!\n",
      "Finished computing!\n",
      "\n",
      "{}\n"
     ]
    }
   ],
   "source": [
    "results = {}\n",
    "threads = [threading.Thread(target=longSquare, args=(n, results)) for n in range(0, 10)]\n",
    "[t.start() for t in threads]\n",
    "[t.join() for t in threads]\n",
    "print(results)"
   ]
  },
  {
   "cell_type": "code",
   "execution_count": null,
   "id": "129b1aa4",
   "metadata": {},
   "outputs": [],
   "source": []
  }
 ],
 "metadata": {
  "kernelspec": {
   "display_name": "Python 3 (ipykernel)",
   "language": "python",
   "name": "python3"
  },
  "language_info": {
   "codemirror_mode": {
    "name": "ipython",
    "version": 3
   },
   "file_extension": ".py",
   "mimetype": "text/x-python",
   "name": "python",
   "nbconvert_exporter": "python",
   "pygments_lexer": "ipython3",
   "version": "3.11.3"
  }
 },
 "nbformat": 4,
 "nbformat_minor": 5
}
